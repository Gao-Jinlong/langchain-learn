{
 "cells": [
  {
   "cell_type": "markdown",
   "metadata": {},
   "source": [
    "Deno 直接从远程拉取依赖，自带缓存机制，而不需要本地安装\n"
   ]
  },
  {
   "cell_type": "code",
   "execution_count": null,
   "metadata": {},
   "outputs": [],
   "source": [
    "import _ from \"npm:/lodash\"\n",
    "\n",
    "_.random(0, 1000)\n"
   ]
  },
  {
   "cell_type": "markdown",
   "metadata": {},
   "source": [
    "带版本锁定的导入\n"
   ]
  },
  {
   "cell_type": "code",
   "execution_count": null,
   "metadata": {},
   "outputs": [],
   "source": [
    "import _ from \"npm:/lodash@4.17.21\"\n",
    "\n",
    "_.random(0, 1000)\n"
   ]
  },
  {
   "cell_type": "markdown",
   "metadata": {},
   "source": [
    "可以通过配置 `deno.json` 设置导入别名\n",
    "\n",
    "```json\n",
    "{\n",
    "  \"imports\": {\n",
    "    \"lodash\": \"npm:/lodash@4.17.21\"\n",
    "  },\n",
    "  \"deno.enable\": true\n",
    "}\n",
    "```\n"
   ]
  },
  {
   "cell_type": "code",
   "execution_count": 6,
   "metadata": {},
   "outputs": [
    {
     "name": "stdout",
     "output_type": "stream",
     "text": [
      "54 4.17.21\n"
     ]
    }
   ],
   "source": [
    "import _ from \"lodash\"\n",
    "\n",
    "console.log(_.random(0, 100), _.VERSION)\n"
   ]
  },
  {
   "cell_type": "markdown",
   "metadata": {},
   "source": []
  }
 ],
 "metadata": {
  "kernelspec": {
   "display_name": "Deno",
   "language": "typescript",
   "name": "deno"
  },
  "language_info": {
   "codemirror_mode": "typescript",
   "file_extension": ".ts",
   "mimetype": "text/x.typescript",
   "name": "typescript",
   "nbconvert_exporter": "script",
   "pygments_lexer": "typescript",
   "version": "5.6.2"
  }
 },
 "nbformat": 4,
 "nbformat_minor": 2
}
