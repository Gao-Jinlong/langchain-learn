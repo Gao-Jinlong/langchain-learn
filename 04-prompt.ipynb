{
 "cells": [
  {
   "cell_type": "code",
   "execution_count": null,
   "metadata": {},
   "outputs": [],
   "source": [
    "import { load } from \"dotenv\";\n",
    "const env = await load({\n",
    "  envPath:'./.env.local',\n",
    "  export: true\n",
    "});\n",
    "\n",
    "const process = {\n",
    "    env\n",
    "}\n",
    "\n",
    "const chatOptions = {\n",
    "  openAIApiKey: process.env.OPENAI_API_KEY,\n",
    "  temperature: 1.5,\n",
    "  model: \"deepseek-chat\",\n",
    "  configuration: {\n",
    "    baseURL: \"https://api.deepseek.com\",\n",
    "  },\n",
    "  azureOpenAIBasePath: \"https://api.deepseek.com\",\n",
    "}\n",
    "\n",
    "console.log(process.env)"
   ]
  },
  {
   "cell_type": "code",
   "execution_count": null,
   "metadata": {},
   "outputs": [],
   "source": [
    "import { PromptTemplate } from \"@langchain/core/prompts\";\n",
    "\n",
    "const personalizedGreetingPrompt = new PromptTemplate({\n",
    "  inputVariables: [\"name\"],\n",
    "  template: \"hello，{name}\",\n",
    "});\n",
    "const formattedPersonalizedGreeting = await personalizedGreetingPrompt.format({\n",
    "  name: \"Ginlon\",\n",
    "});\n",
    "\n",
    "console.log(formattedPersonalizedGreeting);"
   ]
  },
  {
   "cell_type": "markdown",
   "metadata": {},
   "source": [
    "简化写法"
   ]
  },
  {
   "cell_type": "code",
   "execution_count": null,
   "metadata": {},
   "outputs": [],
   "source": [
    "import { PromptTemplate } from \"@langchain/core/prompts\";\n",
    "\n",
    "const personalizedGreetingPrompt = PromptTemplate.fromTemplate(\"good {timeOfDay}, {name}\");\n",
    "const formattedPersonalizedGreeting = await personalizedGreetingPrompt.format({\n",
    "  timeOfDay: \"morning\",\n",
    "  name: \"Ginlon\",\n",
    "});\n",
    "\n",
    "console.log(formattedPersonalizedGreeting);"
   ]
  },
  {
   "cell_type": "markdown",
   "metadata": {},
   "source": [
    "柯里化输入\n",
    "\n",
    "模板所需要的参数可以部分输入，每次输入一部分参数都会创建一个新的 PromptTemplate 实例，新的实例会继承之前实例的参数。"
   ]
  },
  {
   "cell_type": "code",
   "execution_count": null,
   "metadata": {},
   "outputs": [],
   "source": [
    "const initialPrompt = new PromptTemplate({\n",
    "  template: \"这是一个{type}，它是{item}。\",\n",
    "  inputVariables: [\"type\", \"item\"],\n",
    "});\n",
    "\n",
    "\n",
    "const partialPrompt = await initialPrompt.partial({\n",
    "  type: \"工具\",\n",
    "});\n",
    "\n",
    "const formattedPrompt = await partialPrompt.format({\n",
    "  item: \"锤子\",\n",
    "});\n",
    "\n",
    "console.log(formattedPrompt);\n",
    "// 这是一个工具，它是锤子。\n",
    "\n",
    "const formattedPrompt2 = await partialPrompt.format({\n",
    "  item: \"改锥\",\n",
    "});\n",
    "\n",
    "console.log(formattedPrompt2)\n",
    "// 这是一个工具，它是改锥。\n"
   ]
  },
  {
   "cell_type": "markdown",
   "metadata": {},
   "source": [
    "动态填充参数"
   ]
  },
  {
   "cell_type": "code",
   "execution_count": null,
   "metadata": {},
   "outputs": [],
   "source": [
    "const getCurrentDateStr = () => {\n",
    "  return new Date().toLocaleDateString();\n",
    "};\n",
    "\n",
    "function generateGreeting(timeOfDay) {\n",
    "  return () => {\n",
    "    const date = getCurrentDateStr()\n",
    "    switch (timeOfDay) {\n",
    "      case 'morning':\n",
    "        return date + ' 早上好';\n",
    "      case 'afternoon':\n",
    "        return date + ' 下午好';\n",
    "      case 'evening':\n",
    "        return date + ' 晚上好';\n",
    "      default:\n",
    "        return date + ' 你好';\n",
    "    }\n",
    "  };\n",
    "}\n",
    "\n",
    "const prompt = new PromptTemplate({\n",
    "  template: \"{greeting}!\",\n",
    "  inputVariables: [\"greeting\"],\n",
    "});\n",
    "\n",
    "const currentTimeOfDay = 'afternoon';\n",
    "const partialPrompt = await prompt.partial({\n",
    "  greeting: generateGreeting(currentTimeOfDay),\n",
    "});\n",
    "\n",
    "const formattedPrompt = await partialPrompt.format();\n",
    "\n",
    "console.log(formattedPrompt);"
   ]
  },
  {
   "cell_type": "markdown",
   "metadata": {},
   "source": [
    "## 消息角色\n",
    "\n",
    "为了方便地构建和处理结构化的聊天消息，LangChain 提供了几种与聊天相关的提示模板类，如 `ChatPromptTemplate``、SystemMessagePromptTemplate`、`AIMessagePromptTemplate` 和 `HumanMessagePromptTemplate`\n",
    "\n",
    "- system 角色的消息通常用于设置对话的上下文或指定模型采取特定的行为模式。这些消息不会直接显示在对话中，但它们对模型的行为有指导作用。 可以理解成模型的元信息，权重非常高，在这里有效的构建 prompt 能取得非常好的效果。  \n",
    "- user 角色代表真实用户在对话中的发言。这些消息通常是问题、指令或者评论，反映了用户的意图和需求。  \n",
    "- assistant 角色的消息代表AI模型的回复。这些消息是模型根据system的指示和user的输入生成的。  "
   ]
  },
  {
   "cell_type": "code",
   "execution_count": null,
   "metadata": {},
   "outputs": [],
   "source": [
    "import {\n",
    "  SystemMessagePromptTemplate,\n",
    "  HumanMessagePromptTemplate,\n",
    "  ChatPromptTemplate\n",
    "} from \"@langchain/core/prompts\"\n",
    "\n",
    "const translateInstructionTemplate =\n",
    "  SystemMessagePromptTemplate.fromTemplate(`你是一个专\n",
    "业的翻译员，你的任务是将文本从{source_lang}翻译成{target_lang}。`)\n",
    "\n",
    "const userQuestionTemplate =\n",
    "  HumanMessagePromptTemplate.fromTemplate(\"请翻译这句话：{text}\")\n",
    "\n",
    "const chatPrompt = ChatPromptTemplate.fromMessages([\n",
    "  translateInstructionTemplate,\n",
    "  userQuestionTemplate,\n",
    "]);\n",
    "\n",
    "const formattedChatPrompt = await chatPrompt.formatMessages({\n",
    "  source_lang: \"中文\",\n",
    "  target_lang: \"法语\",\n",
    "  text: \"你好，世界\",\n",
    "});\n",
    "\n",
    "console.log(formattedChatPrompt)"
   ]
  },
  {
   "cell_type": "markdown",
   "metadata": {},
   "source": [
    "简化语法"
   ]
  },
  {
   "cell_type": "code",
   "execution_count": null,
   "metadata": {},
   "outputs": [],
   "source": [
    "import { ChatPromptTemplate } from \"@langchain/core/prompts\"\n",
    "\n",
    "const systemTemplate =\n",
    "  \"你是一个专业的翻译员，你的任务是将文本从{source_lang}翻译成{target_lang}。\"\n",
    "const humanTemplate = \"请翻译这句话：{text}\"\n",
    "\n",
    "const chatPrompt = ChatPromptTemplate.fromMessages([\n",
    "  [\"system\", systemTemplate],\n",
    "  [\"human\", humanTemplate],\n",
    "])\n",
    "\n",
    "const formatPrompt = await chatPrompt.formatMessages({\n",
    "  source_lang: \"中文\",\n",
    "  target_lang: \"法语\",\n",
    "  text: \"你好，世界\",\n",
    "})\n",
    "\n",
    "console.log(formatPrompt)\n"
   ]
  },
  {
   "cell_type": "code",
   "execution_count": null,
   "metadata": {},
   "outputs": [],
   "source": [
    "import { ChatOpenAI } from '@langchain/openai' \n",
    "import { StringOutputParser } from \"@langchain/core/output_parsers\";\n",
    "\n",
    "const chatModel = new ChatOpenAI(chatOptions);\n",
    "const outputParser = new StringOutputParser();\n",
    "\n",
    "const chain = chatPrompt.pipe(chatModel).pipe(outputParser);\n",
    "\n",
    "await chain.invoke({\n",
    "  source_lang: \"中文\",\n",
    "  target_lang: \"法语\",\n",
    "  text: \"你好，世界\",\n",
    "})"
   ]
  },
  {
   "cell_type": "markdown",
   "metadata": {},
   "source": [
    "## 组合 Prompt\n",
    "\n",
    "可以用将多个独立的 template 构建成一个完整且复杂的 prompt\n",
    "\n",
    "`PipelinePromptTemplate` 有两个核心的概念：\n",
    "\n",
    "pipelinePrompts，一组 object，每个 object 表示 prompt 运行后赋值给 name 变量\n",
    "finalPrompt，表示最终输出的 prompt"
   ]
  },
  {
   "cell_type": "code",
   "execution_count": null,
   "metadata": {},
   "outputs": [],
   "source": [
    "import {\n",
    "  PromptTemplate,\n",
    "  PipelinePromptTemplate,\n",
    "} from \"@langchain/core/prompts\";\n",
    "\n",
    "const getCurrentDateStr = () => {\n",
    "  return new Date().toLocaleDateString();\n",
    "};\n",
    "\n",
    "const fullPrompt = PromptTemplate.fromTemplate(`\n",
    "你是一个智能管家，今天是 {date}，你的主人的信息是{info}, \n",
    "根据上下文，完成主人的需求\n",
    "{task}`);\n",
    "\n",
    "const datePrompt = PromptTemplate.fromTemplate(\"{date}，现在是 {period}\")\n",
    "const periodPrompt = await datePrompt.partial({\n",
    "    date: getCurrentDateStr\n",
    "})\n",
    "\n",
    "const infoPrompt =  PromptTemplate.fromTemplate(\"姓名是 {name}, 性别是 {gender}\");\n",
    "\n",
    "const taskPrompt = PromptTemplate.fromTemplate(`\n",
    "我想吃 {period} 的 {food}。 \n",
    "再重复一遍我的信息 {info}`);\n",
    "\n",
    "const composedPrompt = new PipelinePromptTemplate({\n",
    "  pipelinePrompts: [\n",
    "    {\n",
    "      name: \"date\",\n",
    "      prompt: periodPrompt,\n",
    "    },\n",
    "    {\n",
    "      name: \"info\",\n",
    "      prompt: infoPrompt,\n",
    "    },\n",
    "    {\n",
    "      name: \"task\",\n",
    "      prompt: taskPrompt,\n",
    "    },\n",
    "  ],\n",
    "  finalPrompt: fullPrompt,\n",
    "});\n",
    "\n",
    "const formattedPrompt = await composedPrompt.format({\n",
    "    period: \"早上\",\n",
    "    name: \"张三\",\n",
    "    gender: \"male\",\n",
    "    food: \"lemon\"\n",
    "});\n",
    "\n",
    "console.log(formattedPrompt)\n"
   ]
  },
  {
   "cell_type": "markdown",
   "metadata": {},
   "source": [
    "langchain 会自动分析 pipeline 之间的依赖关系，尽可能的进行并行化来提高运行速度"
   ]
  }
 ],
 "metadata": {
  "kernelspec": {
   "display_name": "Deno",
   "language": "typescript",
   "name": "deno"
  },
  "language_info": {
   "codemirror_mode": "typescript",
   "file_extension": ".ts",
   "mimetype": "text/x.typescript",
   "name": "typescript",
   "nbconvert_exporter": "script",
   "pygments_lexer": "typescript",
   "version": "5.6.2"
  }
 },
 "nbformat": 4,
 "nbformat_minor": 2
}
