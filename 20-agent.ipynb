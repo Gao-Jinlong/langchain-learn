{
 "cells": [
  {
   "cell_type": "code",
   "execution_count": 1,
   "metadata": {},
   "outputs": [
    {
     "ename": "TypeError",
     "evalue": "[ERR_MODULE_NOT_FOUND] Cannot find module 'file:///C:/Users/ginlon/AppData/Local/deno/npm/registry.npmmirror.com/langsmith/0.1.68_2/index.js' imported from 'file:///C:/Users/ginlon/AppData/Local/deno/npm/registry.npmmirror.com/@langchain/core/0.1.63_1/dist/tracers/tracer_langchain.js'",
     "output_type": "error",
     "traceback": [
      "Stack trace:",
      "TypeError: [ERR_MODULE_NOT_FOUND] Cannot find module 'file:///C:/Users/ginlon/AppData/Local/deno/npm/registry.npmmirror.com/langsmith/0.1.68_2/index.js' imported from 'file:///C:/Users/ginlon/AppData/Local/deno/npm/registry.npmmirror.com/@langchain/core/0.1.63_1/dist/tracers/tracer_langchain.js'",
      "    at async <anonymous>:1:48"
     ]
    }
   ],
   "source": [
    "import { SerpAPILoader } from \"langchain/document_loaders/web/serpapi\"\n",
    "import { Calculator } from \"@langchain/community/tools/calculator\"\n",
    "import { pull } from \"langchain/hub\"; \n",
    "import type { PromptTemplate } from \"@langchain/core/prompts\";"
   ]
  },
  {
   "cell_type": "code",
   "execution_count": null,
   "metadata": {},
   "outputs": [],
   "source": [
    "import { load } from \"dotenv\"\n",
    "const env = await load({\n",
    "  envPath: \".env.local\",\n",
    "})\n",
    "\n",
    "const process = { env }\n",
    "\n",
    "const chatOptions = {\n",
    "  openAIApiKey: process.env.Tongyi_API_KEY,\n",
    "  temperature: 0,\n",
    "  modelName: \"qwen-plus\",\n",
    "  configuration: {\n",
    "    baseURL: process.env.BASE_URL,\n",
    "  },\n",
    "}\n"
   ]
  },
  {
   "cell_type": "code",
   "execution_count": null,
   "metadata": {},
   "outputs": [],
   "source": [
    "const tools = [\n",
    "  new SerpAPI(ProcessingInstruction.env.SERP_KEY),\n",
    "  new Calculator(),\n",
    "]\n",
    "const prompt = await pull<PromptTemplate>(\"hwchase17/react\");"
   ]
  }
 ],
 "metadata": {
  "kernelspec": {
   "display_name": "Deno",
   "language": "typescript",
   "name": "deno"
  },
  "language_info": {
   "codemirror_mode": "typescript",
   "file_extension": ".ts",
   "mimetype": "text/x.typescript",
   "name": "typescript",
   "nbconvert_exporter": "script",
   "pygments_lexer": "typescript",
   "version": "5.6.2"
  }
 },
 "nbformat": 4,
 "nbformat_minor": 2
}
