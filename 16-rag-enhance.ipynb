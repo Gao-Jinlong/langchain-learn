{
 "cells": [
  {
   "cell_type": "code",
   "execution_count": 2,
   "metadata": {},
   "outputs": [],
   "source": [
    "import {\n",
    "  ChatPromptTemplate,\n",
    "  MessagesPlaceholder,\n",
    "} from \"@langchain/core/prompts\"\n",
    "import { RunnableSequence } from \"@langchain/core/runnables\"\n",
    "import { ChatOpenAI } from \"@langchain/openai\"\n",
    "import { StringOutputParser } from \"@langchain/core/output_parsers\"\n",
    "import { HumanMessage, AIMessage } from \"@langchain/core/messages\""
   ]
  },
  {
   "cell_type": "code",
   "execution_count": 3,
   "metadata": {},
   "outputs": [],
   "source": [
    "import { load } from \"dotenv\"\n",
    "const env = await load({\n",
    "  envPath: \".env.local\",\n",
    "})\n",
    "\n",
    "const process = { env }\n",
    "\n",
    "const chatOptions = {\n",
    "  openAIApiKey: process.env.Tongyi_API_KEY,\n",
    "  temperature: 1.5,\n",
    "  modelName: \"deepseek-v3\",\n",
    "  configuration: {\n",
    "    baseURL: process.env.BASE_URL,\n",
    "  },\n",
    "}"
   ]
  },
  {
   "cell_type": "markdown",
   "metadata": {},
   "source": [
    "## llm 改写提问\n",
    "\n",
    "在自然的对话中用户经常会使用代词表示之前会话中提到过的事务，而这样是不利于向量检索的，因此我们可以使用 llm 重写用户的问题，使他们更加具体。"
   ]
  },
  {
   "cell_type": "code",
   "execution_count": 4,
   "metadata": {},
   "outputs": [],
   "source": [
    "const rephraseChainPrompt = ChatPromptTemplate.fromMessages([\n",
    "  [\n",
    "    \"system\",\n",
    "    \"给定以下对话和一个后续问题，请将后续问题重述为一个独立的问题。请注意，重述的问题应该包含足够的信息，使得没有看过对话历史的人也能理解。\",\n",
    "  ],\n",
    "  new MessagesPlaceholder(\"history\"),\n",
    "  [\"human\", \"将以下问题重述为一个独立的问题：\\n{question}\"],\n",
    "])\n"
   ]
  },
  {
   "cell_type": "code",
   "execution_count": 5,
   "metadata": {},
   "outputs": [],
   "source": [
    "const rephraseChain = RunnableSequence.from([\n",
    "  rephraseChainPrompt,\n",
    "  new ChatOpenAI({\n",
    "    ...chatOptions,\n",
    "    temperature: 0.2,\n",
    "  }),\n",
    "  new StringOutputParser(),\n",
    "])"
   ]
  },
  {
   "cell_type": "code",
   "execution_count": 6,
   "metadata": {},
   "outputs": [],
   "source": [
    "const historyMessages = [\n",
    "  new HumanMessage(\"你好， 我叫小明\"),\n",
    "  new AIMessage(\"你好，小明\"),\n",
    "]\n",
    "\n",
    "const question = \"你觉得我的名字怎么样？\"\n",
    "\n",
    "const standaloneQuestion = await rephraseChain.invoke({\n",
    "  history: historyMessages,\n",
    "  question,\n",
    "})\n"
   ]
  },
  {
   "cell_type": "code",
   "execution_count": 7,
   "metadata": {},
   "outputs": [
    {
     "name": "stdout",
     "output_type": "stream",
     "text": [
      "standaloneQuestion 你觉得“小明”这个名字怎么样？\n"
     ]
    }
   ],
   "source": [
    "console.log('standaloneQuestion', standaloneQuestion)"
   ]
  }
 ],
 "metadata": {
  "kernelspec": {
   "display_name": "Deno",
   "language": "typescript",
   "name": "deno"
  },
  "language_info": {
   "codemirror_mode": "typescript",
   "file_extension": ".ts",
   "mimetype": "text/x.typescript",
   "name": "typescript",
   "nbconvert_exporter": "script",
   "pygments_lexer": "typescript",
   "version": "5.6.2"
  }
 },
 "nbformat": 4,
 "nbformat_minor": 2
}
