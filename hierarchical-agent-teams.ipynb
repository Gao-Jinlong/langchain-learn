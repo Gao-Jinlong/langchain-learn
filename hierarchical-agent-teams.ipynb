{
 "cells": [
  {
   "cell_type": "code",
   "execution_count": null,
   "metadata": {},
   "outputs": [],
   "source": [
    "import {config} from \"dotenv\"\n",
    "\n",
    "config({\n",
    "  path: \".env.local\",\n",
    "})\n"
   ]
  },
  {
   "cell_type": "code",
   "execution_count": 2,
   "metadata": {},
   "outputs": [],
   "source": [
    "import { TavilySearch } from \"@langchain/tavily\"\n",
    "import { CheerioWebBaseLoader } from \"@langchain/community/document_loaders/web/cheerio\"\n",
    "import { tool } from \"@langchain/core/tools\"\n",
    "import { z } from \"zod\"\n",
    "\n",
    "const tavilyTool = new TavilySearch()\n",
    "\n",
    "// @ts-ignore\n",
    "const scrapeWebpage = tool(\n",
    "  async (input) => {\n",
    "    const loader = new CheerioWebBaseLoader(input.url)\n",
    "    const docs = await loader.load()\n",
    "    const formattedDocs = docs.map(\n",
    "      (doc) =>\n",
    "        `<Document name=\"${doc.metadata?.title}\">\\n${doc.pageContent}\\n</Document>`\n",
    "    )\n",
    "    return formattedDocs.join(\"\\n\\n\")\n",
    "  },\n",
    "  {\n",
    "    name: \"scrape_webpage\",\n",
    "    description: \"Scrape the contents of a webpage.\",\n",
    "    schema: z.object({\n",
    "      url: z.string(),\n",
    "    }),\n",
    "  }\n",
    ")\n"
   ]
  },
  {
   "cell_type": "code",
   "execution_count": null,
   "metadata": {},
   "outputs": [],
   "source": [
    "import \"tsx\"\n",
    "import { createCanvas } from \"canvas\"\n",
    "import * as d3 from \"d3\"\n",
    "import * as tslab from \"tslab\"\n",
    "import * as fs from \"fs/promises\"\n",
    "import * as path from \"path\"\n",
    "import { tool } from \"@langchain/core/tools\"\n",
    "import { z } from \"zod\"\n",
    "\n",
    "const WORKING_DIRECTORY = \"./temp\"\n",
    "await fs.mkdir(WORKING_DIRECTORY, { recursive: true })\n",
    "\n",
    "//@ts-ignore\n",
    "const createOutlineTool = tool(\n",
    "  async ({ points, file_name }) => {\n",
    "    const filePath = path.join(WORKING_DIRECTORY, file_name)\n",
    "    const data = (points as any)\n",
    "      .map((point, index) => `${index + 1}.${point}\\n`)\n",
    "      .join(\"\\n\")\n",
    "    await fs.writeFile(filePath, data)\n",
    "    return `Outline saved to ${file_name}`\n",
    "  },\n",
    "  {\n",
    "    name: \"create_outline\",\n",
    "    description: \"Create and save an outline\",\n",
    "    schema: z.object({\n",
    "      points: z\n",
    "        .array(z.string())\n",
    "        .nonempty(\"List of main points or sections must not be empty.\"),\n",
    "      file_name: z.string(),\n",
    "    }),\n",
    "  }\n",
    ")\n"
   ]
  }
 ],
 "metadata": {
  "kernelspec": {
   "display_name": "TypeScript",
   "language": "typescript",
   "name": "tslab"
  },
  "language_info": {
   "codemirror_mode": {
    "mode": "typescript",
    "name": "javascript",
    "typescript": true
   },
   "file_extension": ".ts",
   "mimetype": "text/typescript",
   "name": "typescript",
   "version": "3.7.2"
  }
 },
 "nbformat": 4,
 "nbformat_minor": 2
}
