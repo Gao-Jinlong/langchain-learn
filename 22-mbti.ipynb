{
 "cells": [
  {
   "cell_type": "code",
   "execution_count": null,
   "metadata": {},
   "outputs": [],
   "source": [
    "import { load } from \"dotenv\"\n",
    "const env = await load({\n",
    "  envPath: \".env.local\",\n",
    "})\n",
    "\n",
    "const process = { env }\n",
    "\n",
    "const chatOptions = {\n",
    "  openAIApiKey: process.env.Tongyi_API_KEY,\n",
    "  temperature: 0,\n",
    "  modelName: \"qwen-plus\",\n",
    "  configuration: {\n",
    "    baseURL: process.env.BASE_URL,\n",
    "  },\n",
    "}\n",
    "const tongyiChatOptions = {\n",
    "  alibabaApiKey: process.env.Tongyi_API_KEY,\n",
    "  temperature: 1.5,\n",
    "  modelName: \"qwen-plus\",\n",
    "};\n"
   ]
  },
  {
   "cell_type": "code",
   "execution_count": null,
   "metadata": {},
   "outputs": [],
   "source": [
    "import {\n",
    "  ChatPromptTemplate,\n",
    "  PromptTemplate,\n",
    "  MessagesPlaceholder,\n",
    "} from \"@langchain/core/prompts\"\n",
    "import { ChatAlibabaTongyi } from \"@langchain/community/chat_models/alibaba_tongyi\"\n",
    "import {\n",
    "  RunnableSequence,\n",
    "  RunnableWithMessageHistory,\n",
    "} from \"@langchain/core/runnables\"\n",
    "import { StringOutputParser } from \"@langchain/core/output_parsers\"\n",
    "import { DynamicStructuredTool, DynamicTool } from \"@langchain/core/tools\"\n",
    "import { AgentExecutor, createOpenAIToolsAgent } from \"langchain/agents\"\n",
    "import { ChatMessageHistory } from \"langchain/stores/message/in_memory\"\n",
    "import z from \"zod\"\n"
   ]
  },
  {
   "cell_type": "code",
   "execution_count": null,
   "metadata": {},
   "outputs": [],
   "source": [
    "const mbtiInfo = JSON.parse(await Deno.readTextFile(\"./mbti-info.json\"));\n",
    "console.log(\"🚀 ~ mbtiInfo:\", mbtiInfo);\n",
    "\n",
    "const mbtiList = Object.keys(mbtiInfo);"
   ]
  },
  {
   "cell_type": "code",
   "execution_count": null,
   "metadata": {},
   "outputs": [],
   "source": [
    "const prompt = ChatPromptTemplate.fromMessages([\n",
    "  [\n",
    "    \"system\",\n",
    "    \"你是一个共情能力非常强的心理医生，并且很了解MBTI（迈尔斯-布里格斯性格类型指标)的各种人格类型，你的任务是根据来访者的 MBTI 和问题，给出针对性的情感支持，你的回答要富有感情、有深度和充足的情感支持，引导来访者乐观积极面对问题\",\n",
    "  ],\n",
    "  [\n",
    "    \"human\",\n",
    "    \"用户的 MBTI 类型是{type}, 这个类型的特点是{info}, 他的问题是{question}\",\n",
    "  ],\n",
    "])\n",
    "\n",
    "const model = new ChatAlibabaTongyi(tongyiChatOptions)\n",
    "const mbtiChain = RunnableSequence.from([\n",
    "  prompt,\n",
    "  model,\n",
    "  new StringOutputParser(),\n",
    "])\n"
   ]
  },
  {
   "cell_type": "code",
   "execution_count": null,
   "metadata": {},
   "outputs": [],
   "source": [
    "const mbtiTool = new DynamicStructuredTool({\n",
    "  name: \"get-mbti-chat\",\n",
    "  schema: z.object({\n",
    "    type: z.enum(mbtiList).describe(\"用户的 MBTI 类型\"),\n",
    "    question: z.string().describe(\"用户的问题\"),\n",
    "  }),\n",
    "  func: async ({ type, question }) => {\n",
    "    const info = mbtiInfo[type]\n",
    "\n",
    "    const res = await mbtiChain.invoke({ type, question, info })\n",
    "    return res\n",
    "  },\n",
    "  description: \"根据用户的问题和 MBTI 类型，回答用户的问题\",\n",
    "})\n"
   ]
  },
  {
   "cell_type": "code",
   "execution_count": null,
   "metadata": {},
   "outputs": [],
   "source": [
    "const tools = [mbtiTool]\n",
    "\n",
    "const agentPrompt = await ChatPromptTemplate.fromMessages([\n",
    "  [\n",
    "    \"system\",\n",
    "    \"你是一个用户接待的 agent，通过自然语言询问用户的 MBTI 类型和问题，直到你有足够的信息调用 get-mbti-chat 来回答用户的问题\",\n",
    "  ],\n",
    "  new MessagesPlaceholder(\"history_message\"),\n",
    "  [\"human\", \"{input}\"],\n",
    "  new MessagesPlaceholder(\"agent_scratchpad\"),\n",
    "])\n",
    "\n",
    "const llm = new ChatAlibabaTongyi(tongyiChatOptions)\n",
    "const agent = await createOpenAIToolsAgent({\n",
    "  llm,\n",
    "  tools,\n",
    "  prompt: agentPrompt,\n",
    "})\n",
    "const agentExecutor = new AgentExecutor({\n",
    "  agent,\n",
    "  tools,\n",
    "})\n"
   ]
  },
  {
   "cell_type": "code",
   "execution_count": null,
   "metadata": {},
   "outputs": [],
   "source": [
    "const messgaeHistory = new ChatMessageHistory()\n",
    "\n",
    "const agentWithChatHistory = new RunnableWithMessageHistory({\n",
    "  runnable: agentExecutor,\n",
    "  getMessageHistory: () => messgaeHistory,\n",
    "  inputMessagesKey: \"input\",\n",
    "  historyMessageKey: \"history_message\",\n",
    "})\n"
   ]
  }
 ],
 "metadata": {
  "kernelspec": {
   "display_name": "Deno",
   "language": "typescript",
   "name": "deno"
  },
  "language_info": {
   "codemirror_mode": "typescript",
   "file_extension": ".ts",
   "mimetype": "text/x.typescript",
   "name": "typescript",
   "nbconvert_exporter": "script",
   "pygments_lexer": "typescript",
   "version": "5.6.2"
  }
 },
 "nbformat": 4,
 "nbformat_minor": 2
}
