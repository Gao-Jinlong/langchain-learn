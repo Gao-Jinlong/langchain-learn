{
 "cells": [
  {
   "cell_type": "code",
   "execution_count": 1,
   "metadata": {},
   "outputs": [],
   "source": [
    "import { ChatOpenAI } from \"@langchain/openai\"\n",
    "import zodToJsonSchema from \"zod-to-json-schema\""
   ]
  },
  {
   "cell_type": "code",
   "execution_count": 2,
   "metadata": {},
   "outputs": [],
   "source": [
    "import { load } from \"dotenv\"\n",
    "const env = await load({\n",
    "  envPath: \".env.local\",\n",
    "})\n",
    "\n",
    "const process = { env }\n",
    "\n",
    "const chatOptions = {\n",
    "  openAIApiKey: process.env.Tongyi_API_KEY,\n",
    "  temperature: 0,\n",
    "  modelName: \"qwen-plus\",\n",
    "  configuration: {\n",
    "    baseURL: process.env.BASE_URL,\n",
    "  },\n",
    "}"
   ]
  },
  {
   "cell_type": "markdown",
   "metadata": {},
   "source": [
    "使用 Zod 辅助 llm 进行参数类型检查"
   ]
  },
  {
   "cell_type": "code",
   "execution_count": 3,
   "metadata": {},
   "outputs": [
    {
     "data": {
      "text/plain": [
       "\u001b[32m\"Hello, Zod!\"\u001b[39m"
      ]
     },
     "execution_count": 3,
     "metadata": {},
     "output_type": "execute_result"
    }
   ],
   "source": [
    "import { z } from \"zod\"\n",
    "\n",
    "const stringSchema = z.string()\n",
    "stringSchema.parse(\"Hello, Zod!\")"
   ]
  },
  {
   "cell_type": "code",
   "execution_count": 4,
   "metadata": {},
   "outputs": [
    {
     "ename": "ZodError",
     "evalue": "[\n  {\n    \"code\": \"invalid_type\",\n    \"expected\": \"string\",\n    \"received\": \"number\",\n    \"path\": [],\n    \"message\": \"Expected string, received number\"\n  }\n]",
     "output_type": "error",
     "traceback": [
      "Stack trace:",
      "ZodError: [",
      "  {",
      "    \"code\": \"invalid_type\",",
      "    \"expected\": \"string\",",
      "    \"received\": \"number\",",
      "    \"path\": [],",
      "    \"message\": \"Expected string, received number\"",
      "  }",
      "]",
      "    at Object.get error (file:///C:/Users/ginlon/AppData/Local/deno/npm/registry.npmmirror.com/zod/3.24.2/lib/index.mjs:587:31)",
      "    at ZodString.parse (file:///C:/Users/ginlon/AppData/Local/deno/npm/registry.npmmirror.com/zod/3.24.2/lib/index.mjs:663:22)",
      "    at <anonymous>:1:35"
     ]
    }
   ],
   "source": [
    "stringSchema.parse(2323);"
   ]
  },
  {
   "cell_type": "code",
   "execution_count": null,
   "metadata": {},
   "outputs": [],
   "source": [
    "const stringSchema = z.string()\n",
    "const numberSchema = z.number()\n",
    "const booleanSchema = z.boolean()\n",
    "\n",
    "const stringArraySchema = z.array(z.string())\n",
    "stringArraySchema.parse([\"apple\", \"banana\", \"cherry\"])\n",
    "\n",
    "const personSchema = z.object({\n",
    "  name: z.string(),\n",
    "  age: z.number(),\n",
    "  isStudent: z.boolean().optional(),\n",
    "  home: z.string().default(\"no home\"),\n",
    "})\n",
    "\n",
    "const mixedTypeSchema = z.union([z.string(), z.number()])\n",
    "mixedTypeSchema.parse(\"hello\")\n",
    "mixedTypeSchema.parse(42)"
   ]
  },
  {
   "cell_type": "code",
   "execution_count": 5,
   "metadata": {},
   "outputs": [],
   "source": [
    "const getCurrentWeatherSchema = z.object({\n",
    "  location: z.string().describe(\"The city and state, e.g. San Francisco, CA\"),\n",
    "  unit: z.enum([\"celsius\", \"fahrenheit\"]).describe(\"The unit of temperature\"),\n",
    "})"
   ]
  },
  {
   "cell_type": "code",
   "execution_count": 6,
   "metadata": {},
   "outputs": [
    {
     "name": "stdout",
     "output_type": "stream",
     "text": [
      "{\n",
      "  type: \"object\",\n",
      "  properties: {\n",
      "    location: {\n",
      "      type: \"string\",\n",
      "      description: \"The city and state, e.g. San Francisco, CA\"\n",
      "    },\n",
      "    unit: {\n",
      "      type: \"string\",\n",
      "      enum: [ \"celsius\", \"fahrenheit\" ],\n",
      "      description: \"The unit of temperature\"\n",
      "    }\n",
      "  },\n",
      "  required: [ \"location\", \"unit\" ],\n",
      "  additionalProperties: false,\n",
      "  \"$schema\": \"http://json-schema.org/draft-07/schema#\"\n",
      "}\n"
     ]
    }
   ],
   "source": [
    "import {zodToJsonSchema} from \"zod-to-json-schema\"\n",
    "\n",
    "const paramSchema = zodToJsonSchema(getCurrentWeatherSchema)\n",
    "console.log(paramSchema)"
   ]
  },
  {
   "cell_type": "code",
   "execution_count": 7,
   "metadata": {},
   "outputs": [
    {
     "data": {
      "text/plain": [
       "AIMessage {\n",
       "  lc_serializable: \u001b[33mtrue\u001b[39m,\n",
       "  lc_kwargs: {\n",
       "    content: \u001b[32m\"\"\u001b[39m,\n",
       "    tool_calls: [],\n",
       "    invalid_tool_calls: [],\n",
       "    additional_kwargs: {\n",
       "      function_call: \u001b[90mundefined\u001b[39m,\n",
       "      tool_calls: [\n",
       "        {\n",
       "          function: \u001b[36m[Object]\u001b[39m,\n",
       "          index: \u001b[33m0\u001b[39m,\n",
       "          id: \u001b[32m\"call_8304de84bb22437e9050ed\"\u001b[39m,\n",
       "          type: \u001b[32m\"function\"\u001b[39m\n",
       "        }\n",
       "      ]\n",
       "    },\n",
       "    response_metadata: {}\n",
       "  },\n",
       "  lc_namespace: [ \u001b[32m\"langchain_core\"\u001b[39m, \u001b[32m\"messages\"\u001b[39m ],\n",
       "  content: \u001b[32m\"\"\u001b[39m,\n",
       "  name: \u001b[90mundefined\u001b[39m,\n",
       "  additional_kwargs: {\n",
       "    function_call: \u001b[90mundefined\u001b[39m,\n",
       "    tool_calls: [\n",
       "      {\n",
       "        function: {\n",
       "          name: \u001b[32m\"getCurrentWeather\"\u001b[39m,\n",
       "          arguments: \u001b[32m'{\"location\": \"北京\", \"unit\": \"celsius\"}'\u001b[39m\n",
       "        },\n",
       "        index: \u001b[33m0\u001b[39m,\n",
       "        id: \u001b[32m\"call_8304de84bb22437e9050ed\"\u001b[39m,\n",
       "        type: \u001b[32m\"function\"\u001b[39m\n",
       "      }\n",
       "    ]\n",
       "  },\n",
       "  response_metadata: {\n",
       "    tokenUsage: { completionTokens: \u001b[33m24\u001b[39m, promptTokens: \u001b[33m236\u001b[39m, totalTokens: \u001b[33m260\u001b[39m },\n",
       "    finish_reason: \u001b[32m\"tool_calls\"\u001b[39m\n",
       "  },\n",
       "  tool_calls: [],\n",
       "  invalid_tool_calls: []\n",
       "}"
      ]
     },
     "execution_count": 7,
     "metadata": {},
     "output_type": "execute_result"
    }
   ],
   "source": [
    "const model = new ChatOpenAI(chatOptions)\n",
    "\n",
    "const modelWithTools = model.bind({\n",
    "  tools: [\n",
    "    {\n",
    "      type: \"function\",\n",
    "      function: {\n",
    "        name: \"getCurrentWeather\",\n",
    "        description: \"Get the current weather in a given location\",\n",
    "        parameters: zodToJsonSchema(getCurrentWeatherSchema),\n",
    "      },\n",
    "    },\n",
    "  ],\n",
    "})\n",
    "\n",
    "await modelWithTools.invoke(\"北京天气怎么样\")"
   ]
  },
  {
   "cell_type": "code",
   "execution_count": 8,
   "metadata": {},
   "outputs": [
    {
     "name": "stdout",
     "output_type": "stream",
     "text": [
      "AIMessage {\n",
      "  lc_serializable: true,\n",
      "  lc_kwargs: {\n",
      "    content: \"\",\n",
      "    tool_calls: [],\n",
      "    invalid_tool_calls: [],\n",
      "    additional_kwargs: {\n",
      "      function_call: undefined,\n",
      "      tool_calls: [\n",
      "        {\n",
      "          function: [Object],\n",
      "          index: 0,\n",
      "          id: \"call_71600c2d49164fcabee0fd\",\n",
      "          type: \"function\"\n",
      "        }\n",
      "      ]\n",
      "    },\n",
      "    response_metadata: {}\n",
      "  },\n",
      "  lc_namespace: [ \"langchain_core\", \"messages\" ],\n",
      "  content: \"\",\n",
      "  name: undefined,\n",
      "  additional_kwargs: {\n",
      "    function_call: undefined,\n",
      "    tool_calls: [\n",
      "      {\n",
      "        function: {\n",
      "          name: \"getCurrentWeather\",\n",
      "          arguments: '{\"location\": \"北京\", \"unit\": \"celsius\"}'\n",
      "        },\n",
      "        index: 0,\n",
      "        id: \"call_71600c2d49164fcabee0fd\",\n",
      "        type: \"function\"\n",
      "      }\n",
      "    ]\n",
      "  },\n",
      "  response_metadata: {\n",
      "    tokenUsage: { completionTokens: 24, promptTokens: 241, totalTokens: 265 },\n",
      "    finish_reason: \"tool_calls\"\n",
      "  },\n",
      "  tool_calls: [],\n",
      "  invalid_tool_calls: []\n",
      "}\n"
     ]
    }
   ],
   "source": [
    "import { ChatPromptTemplate } from \"@langchain/core/prompts\"\n",
    "\n",
    "const prompt = ChatPromptTemplate.fromMessages([\n",
    "  [\"system\", \"You are a helpful assistant\"],\n",
    "  [\"human\", \"{input}\"],\n",
    "])\n",
    "\n",
    "const chain = prompt.pipe(modelWithTools)\n",
    "\n",
    "const response = await chain.invoke({ input: \"北京天气怎么样\" })\n",
    "console.log(response)\n"
   ]
  },
  {
   "cell_type": "markdown",
   "metadata": {},
   "source": [
    "多 tools model"
   ]
  },
  {
   "cell_type": "code",
   "execution_count": 9,
   "metadata": {},
   "outputs": [
    {
     "data": {
      "text/plain": [
       "{\n",
       "  type: \u001b[32m\"object\"\u001b[39m,\n",
       "  properties: {\n",
       "    format: {\n",
       "      type: \u001b[32m\"string\"\u001b[39m,\n",
       "      enum: [ \u001b[32m\"ios\"\u001b[39m, \u001b[32m\"locale\"\u001b[39m, \u001b[32m\"string\"\u001b[39m ],\n",
       "      description: \u001b[32m\"The format of the time, e.g. iso, locale, string\"\u001b[39m\n",
       "    }\n",
       "  },\n",
       "  additionalProperties: \u001b[33mfalse\u001b[39m,\n",
       "  \u001b[32m\"$schema\"\u001b[39m: \u001b[32m\"http://json-schema.org/draft-07/schema#\"\u001b[39m\n",
       "}"
      ]
     },
     "execution_count": 9,
     "metadata": {},
     "output_type": "execute_result"
    }
   ],
   "source": [
    "const getCurrentTimeSchema = z.object({\n",
    "  format: z.enum([\"ios\", \"locale\", \"string\"])\n",
    "  .optional()\n",
    "  .describe(\"The format of the time, e.g. iso, locale, string\"),\n",
    "})\n",
    "\n",
    "zodToJsonSchema(getCurrentTimeSchema)"
   ]
  },
  {
   "cell_type": "code",
   "execution_count": 10,
   "metadata": {},
   "outputs": [],
   "source": [
    "const model = new ChatOpenAI(chatOptions)\n",
    "\n",
    "const modelWithMultiTools = model.bind({\n",
    "  tools: [\n",
    "    {\n",
    "      type: \"function\",\n",
    "      function: {\n",
    "        name: \"getCurrentWeather\",\n",
    "        description: \"Get the current weather in a given location\",\n",
    "        parameters: zodToJsonSchema(getCurrentWeatherSchema),\n",
    "      },\n",
    "    },\n",
    "    {\n",
    "      type: \"function\",\n",
    "      function: {\n",
    "        name: \"getCurrentTime\",\n",
    "        description: \"Get the current time in a given format\",\n",
    "        parameters: zodToJsonSchema(getCurrentTimeSchema),\n",
    "      },\n",
    "    },\n",
    "  ],\n",
    "})\n"
   ]
  },
  {
   "cell_type": "markdown",
   "metadata": {},
   "source": [
    "使用 tools 给数据打标签"
   ]
  },
  {
   "cell_type": "code",
   "execution_count": 11,
   "metadata": {},
   "outputs": [],
   "source": [
    "const taggingSchema = z.object({\n",
    "  emotion:z.enum([\"pos\", \"neg\", \"neutral\"]).describe(\"文本的情感\"),\n",
    "  language: z.string().describe(\"文本的核心语言（应为ISO 639-1代码）\"),\n",
    "});"
   ]
  },
  {
   "cell_type": "code",
   "execution_count": 12,
   "metadata": {},
   "outputs": [],
   "source": [
    "const model = new ChatOpenAI(chatOptions)\n",
    "\n",
    "const modelTagging = model.bind({\n",
    "  tools: [\n",
    "    {\n",
    "      type: \"function\",\n",
    "      function: {\n",
    "        name: \"tagging\",\n",
    "        description: \"为特定的文本片段打上标签\",\n",
    "        parameters: zodToJsonSchema(taggingSchema),\n",
    "      },\n",
    "    },\n",
    "  ],\n",
    "  tool_choice: {\n",
    "    type: \"function\",\n",
    "    function: {\n",
    "      name: \"tagging\",\n",
    "    },\n",
    "  },\n",
    "})\n"
   ]
  },
  {
   "cell_type": "code",
   "execution_count": 13,
   "metadata": {},
   "outputs": [],
   "source": [
    "import { JsonOutputToolsParser } from \"@langchain/core/output_parsers/openai_tools\"\n",
    "\n",
    "const prompt = ChatPromptTemplate.fromMessages([\n",
    "  [\n",
    "    \"system\",\n",
    "    \"仔细思考，你有充足的时间进行严谨的思考，然后按照指示对文本进行标记\",\n",
    "  ],\n",
    "  [\"human\", \"{input}\"],\n",
    "])\n",
    "\n",
    "const chain = prompt.pipe(modelTagging).pipe(new JsonOutputToolsParser())"
   ]
  },
  {
   "cell_type": "code",
   "execution_count": null,
   "metadata": {},
   "outputs": [],
   "source": [
    "const res = await chain.invoke({\n",
    "  input: \"hello world\"\n",
    "})\n",
    "\n",
    "console.log(res)\n",
    "\n",
    "const res1 = await chain.invoke({\n",
    "  input: \"写代码太难了，👴 不干了\"\n",
    "})\n",
    "\n",
    "console.log(res1)\n",
    "\n",
    "const res2 = await chain.invoke({\n",
    "  // 日语，圣诞快乐\n",
    "  input: \"メリークリスマス!\"\n",
    "})\n",
    "\n",
    "console.log(res2)\n",
    "\n",
    "const res3 = await chain.invoke({\n",
    "  input: \"我非常喜欢 AI，特别是 LLM，因为它非常 powerful\"\n",
    "})\n",
    "\n",
    "console.log(res3)"
   ]
  },
  {
   "cell_type": "markdown",
   "metadata": {},
   "source": [
    "使用 tools 进行信息提取"
   ]
  },
  {
   "cell_type": "code",
   "execution_count": 14,
   "metadata": {},
   "outputs": [],
   "source": [
    "const personExtractionSchema = z.object({\n",
    "  name: z.string().describe(\"人的名字\"),\n",
    "  age: z.number().optional().describe(\"人的年龄\")\n",
    "}).describe(\"提取关于一个人的信息\");"
   ]
  },
  {
   "cell_type": "code",
   "execution_count": 16,
   "metadata": {},
   "outputs": [],
   "source": [
    "const relationExtractSchema = z.object({\n",
    "  people: z.array(personExtractionSchema).describe(\"提取所有人\"),\n",
    "  relation: z.string().describe(\"人之间的关系, 尽量简洁\")\n",
    "})"
   ]
  },
  {
   "cell_type": "code",
   "execution_count": 17,
   "metadata": {},
   "outputs": [
    {
     "name": "stdout",
     "output_type": "stream",
     "text": [
      "{\n",
      "  type: \"object\",\n",
      "  properties: {\n",
      "    people: {\n",
      "      type: \"array\",\n",
      "      items: {\n",
      "        type: \"object\",\n",
      "        properties: { name: [Object], age: [Object] },\n",
      "        required: [ \"name\" ],\n",
      "        additionalProperties: false,\n",
      "        description: \"提取关于一个人的信息\"\n",
      "      },\n",
      "      description: \"提取所有人\"\n",
      "    },\n",
      "    relation: { type: \"string\", description: \"人之间的关系, 尽量简洁\" }\n",
      "  },\n",
      "  required: [ \"people\", \"relation\" ],\n",
      "  additionalProperties: false,\n",
      "  \"$schema\": \"http://json-schema.org/draft-07/schema#\"\n",
      "}\n"
     ]
    }
   ],
   "source": [
    "const schema = zodToJsonSchema(relationExtractSchema)\n",
    "console.log(schema)"
   ]
  },
  {
   "cell_type": "code",
   "execution_count": 18,
   "metadata": {},
   "outputs": [],
   "source": [
    "const model = new ChatOpenAI(chatOptions)\n",
    "\n",
    "const modelExtract = model.bind({\n",
    "  tools: [\n",
    "    {\n",
    "      type: \"function\",\n",
    "      function: {\n",
    "        name: \"relationExtract\",\n",
    "        description: \"提取数据中人的信息和人的关系\",\n",
    "        parameters: zodToJsonSchema(relationExtractSchema),\n",
    "      },\n",
    "    },\n",
    "  ],\n",
    "  tool_choice: {\n",
    "    type: \"function\",\n",
    "    function: {\n",
    "      name: \"relationExtract\",\n",
    "    },\n",
    "  },\n",
    "})\n",
    "\n",
    "const prompt = ChatPromptTemplate.fromMessages([\n",
    "  [\n",
    "    \"system\",\n",
    "    \"仔细思考，你有充足的时间进行严谨的思考，然后提取文中的相关信息，如果没有明确提供，请不要猜测，可以仅提取部分信息\",\n",
    "  ],\n",
    "  [\"human\", \"{input}\"],\n",
    "])\n",
    "\n",
    "const chain = prompt.pipe(modelExtract).pipe(new JsonOutputToolsParser())"
   ]
  },
  {
   "cell_type": "code",
   "execution_count": 19,
   "metadata": {},
   "outputs": [
    {
     "name": "stdout",
     "output_type": "stream",
     "text": [
      "[\n",
      "  {\n",
      "    type: \"relationExtract\",\n",
      "    args: {\n",
      "      people: [ { name: \"小明\", age: 18 }, { name: \"小丽\" } ],\n",
      "      relation: \"小明是小丽的儿子\"\n",
      "    }\n",
      "  }\n",
      "]\n"
     ]
    }
   ],
   "source": [
    "const res = await chain.invoke({\n",
    "  input: \"小明现在 18 岁了，她妈妈是小丽\"\n",
    "})\n",
    "\n",
    "console.log(res)"
   ]
  },
  {
   "cell_type": "code",
   "execution_count": null,
   "metadata": {},
   "outputs": [],
   "source": [
    "const res = await chain.invoke({\n",
    "  input: \"我是小明现在 18 岁了，我和小 A、小 B 是好朋友，都一样大\"\n",
    "})\n",
    "\n",
    "console.log(res)"
   ]
  },
  {
   "cell_type": "code",
   "execution_count": 20,
   "metadata": {},
   "outputs": [
    {
     "name": "stdout",
     "output_type": "stream",
     "text": [
      "[\n",
      "  {\n",
      "    type: \"relationExtract\",\n",
      "    args: { people: [ { name: \"小明\" } ], relation: \"\" }\n",
      "  }\n",
      "]\n"
     ]
    }
   ],
   "source": [
    "const res = await chain.invoke({\n",
    "  input: \"我是小明\"\n",
    "})\n",
    "console.log(res)"
   ]
  }
 ],
 "metadata": {
  "kernelspec": {
   "display_name": "Deno",
   "language": "typescript",
   "name": "deno"
  },
  "language_info": {
   "codemirror_mode": "typescript",
   "file_extension": ".ts",
   "mimetype": "text/x.typescript",
   "name": "typescript",
   "nbconvert_exporter": "script",
   "pygments_lexer": "typescript",
   "version": "5.6.2"
  }
 },
 "nbformat": 4,
 "nbformat_minor": 2
}
