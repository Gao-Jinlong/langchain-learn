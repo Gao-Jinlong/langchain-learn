{
 "cells": [
  {
   "cell_type": "code",
   "execution_count": null,
   "metadata": {},
   "outputs": [],
   "source": [
    "import { Document } from \"langchain/document\"\n",
    "\n",
    "const test = new Document({\n",
    "  pageContent: \"test text\",\n",
    "  metadata: { source: \"ABC Title\" },\n",
    "})\n",
    "\n",
    "console.log(test)\n"
   ]
  },
  {
   "cell_type": "code",
   "execution_count": null,
   "metadata": {},
   "outputs": [],
   "source": [
    "import { TextLoader } from \"langchain/document_loaders/fs/text\"\n",
    "const loader = new TextLoader(\"data/three_body.txt\")\n",
    "\n",
    "const docs = await loader.load()\n",
    "\n",
    "console.log(docs)\n"
   ]
  },
  {
   "cell_type": "code",
   "execution_count": null,
   "metadata": {},
   "outputs": [],
   "source": [
    "import * as pdfParse from \"pdf-parse\"\n",
    "import { PDFLoader } from \"langchain/document_loaders/fs/pdf\"\n",
    "\n",
    "const loader = new PDFLoader(\"data/github-copilot.pdf\", { splitPages: false })\n",
    "const pdfs = await loader.load()\n",
    "\n",
    "console.log(pdfs)\n"
   ]
  },
  {
   "cell_type": "code",
   "execution_count": null,
   "metadata": {},
   "outputs": [],
   "source": [
    "import { DirectoryLoader } from \"langchain/document_loaders/fs/directory\";\n",
    "\n",
    "const loader = new DirectoryLoader(\n",
    "  \"./data\",\n",
    "  {\n",
    "    \".pdf\": (path) => new PDFLoader(path, { splitPages: false }),\n",
    "    \".txt\": (path) => new TextLoader(path),\n",
    "  }\n",
    ");\n",
    "const docs = await loader.load();\n"
   ]
  },
  {
   "cell_type": "markdown",
   "metadata": {},
   "source": [
    "抓取 github 仓库"
   ]
  },
  {
   "cell_type": "code",
   "execution_count": null,
   "metadata": {},
   "outputs": [],
   "source": [
    "import { GithubRepoLoader } from \"langchain/document_loaders/web/github\"\n",
    "import ignore from \"ignore\"\n",
    "\n",
    "const loader = new GithubRepoLoader(\n",
    "  \"https://github.com/RealKai42/qwerty-learner\",\n",
    "  {\n",
    "    branch: \"master\",\n",
    "    recursive: false,\n",
    "    unknown: \"warn\",\n",
    "    ignorePaths: [\"*.md\", \"yarn.lock\", \"*.json\"],\n",
    "    // accessToken: env[\"GITHUB_TOKEN\"],\n",
    "  }\n",
    ")\n",
    "console.log(loader)"
   ]
  },
  {
   "cell_type": "code",
   "execution_count": null,
   "metadata": {},
   "outputs": [],
   "source": [
    "import \"cheerio\"\n",
    "import { CheerioWebBaseLoader } from \"langchain/document_loaders/web/cheerio\"\n",
    "\n",
    "const loader = new CheerioWebBaseLoader(\n",
    "  \"https://kaiyi.cool/blog/github-copilot\",\n",
    "  {\n",
    "    selector: \"h3\",\n",
    "  }\n",
    ")\n",
    "\n",
    "const docs = await loader.load()\n",
    "\n",
    "console.log(docs)\n"
   ]
  },
  {
   "cell_type": "code",
   "execution_count": 22,
   "metadata": {},
   "outputs": [
    {
     "name": "stdout",
     "output_type": "stream",
     "text": [
      "[\n",
      "  Document {\n",
      "    pageContent: '{\"type\":\"organic_result\",\"title\":\"有关使用GitHub Copilot 的最佳做法\",\"link\":\"https://docs.github.com/zh/copilot/using-github-copilot/best-practices-for-using-github-copilot#:~:text=GitHub%20Copilot%20%E6%98%AF%E4%B8%80%E6%AC%BE,%E6%B5%8B%E8%AF%95%E5%92%8C%E9%87%8D%E5%A4%8D%E6%80%A7%E4%BB%A3%E7%A0%81\",\"displayed_link\":\"https://docs.github.com › copilot › using-github-copilot\",\"snippet\":\"GitHub Copilot 是一款AI 编码助手，可帮助你更快、更省力地编写代码，从而将更多精力集中在问题解决和协作上。 在开始使用Copilot 之前，请务必了解何时应使用以及何时不应使用此功能。 Copilot 最擅长的部分能力包括： 编写测试和重复性代码\",\"snippet_highlighted_words\":[\"是一款AI 编码助手，可帮助你更快、更省力地编写代码，从而将更多精力集中在问题解决和协作上\"],\"favicon\":\"https://serpapi.com/searches/67979330fd9d271ccffe50d4/images/ddf35b21095b25aa0e374bb30fccb487d5eb98f3a8c7a7fc.png\",\"source\":\"GitHub Docs\"}',\n",
      "    metadata: { source: \"SerpAPI\", responseType: \"answer_box\" }\n",
      "  },\n",
      "  Document {\n",
      "    pageContent: '{\"title\":\"GitHub Copilot\",\"type\":\"Software\",\"entity_type\":\"kp3_verticals\",\"kgmid\":\"/g/11q83qbj3d\",\"knowledge_graph_search_link\":\"https://www.google.com/search?kgmid=/g/11q83qbj3d&hl=en-US&q=GitHub+Copilot\",\"serpapi_knowledge_graph_search_link\":\"https://serpapi.com/search.json?device=desktop&engine=google&google_domain=google.com&hl=en-US&kgmid=%2Fg%2F11q83qbj3d&q=GitHub+Copilot\",\"header_images\":[{\"image\":\"https://serpapi.com/searches/67979330fd9d271ccffe50d4/images/6d6d037327de291e22cdba0525a7c81236fa57b107f025efb40bac567b6000fe7d021af5e1cf22a3.webp\"},{\"image\":\"https://serpapi.com/searches/67979330fd9d271ccffe50d4/images/6d6d037327de291e22cdba0525a7c81236fa57b107f025efd70e89082f092172d7799f67908a5696.webp\"},{\"image\":\"https://serpapi.com/searches/67979330fd9d271ccffe50d4/images/6d6d037327de291e22cdba0525a7c81236fa57b107f025efb9cf4c156ccf09d4dc62a9ee672312e9.webp\"}],\"developer\":\"GitHub, OpenAI\",\"developer_links\":[{\"text\":\"GitHub\",\"link\":\"https://www.google.com/search?sca_esv=82d425a508629bf6&q=GitHub&si=APYL9btKi1TLoawpxIKkhA47KIc3RH36yjJAdk2TmwBtOZld-h4RhJ6UwsPKRLJkC-3smOAOdUsy79ojFJ5pEL4slXuzFQD7KgATGbuoWPGNGjpMiPeEAFBKWUbDXdIFG-JnMhxJNwwDgS1AeCtOlQ7qhPtg_lYK1a69QEJ2pLsSaAhiA8WlMMw2AkR1Lojbx5ME_PbwBCCB60ORv9SG7X0Mrnob8L_O1aQuOvRPwEmQsHr0Jm-KZf4RMv7R4oIRz1ed7hLgIE2WM6AJ-1EQ6JKiLluwi-tCsw%3D%3D&sa=X&ved=2ahUKEwi75MnOiZaLAxU6iK8BHR-_JJAQmxMoAHoECCQQAg\"},{\"text\":\"OpenAI\",\"link\":\"https://www.google.com/search?sca_esv=82d425a508629bf6&q=OpenAI&si=APYL9bvbTYBlvjo9HgsKokb80VOuw9zV-z5EXyhbMKCadi8Rh3cutGsMp3cZ23bOn6nDAC6Cg6rh8JynTcJFB-dTJSSqqnyuukqR8_F9575ujFe70AnntW36CnWa9SQPVdIpwrl2GKA6kv4uI0_O6jdj-W1nxhc67KioGxtqdeXnwbIoxP8xgswrZ2K7X1gZVMFrSsY_DWhvh_KfT4D2wwQucubgulo-J9FOVuzEAn3JOOjW152k9zrVSgj33RHV0yBhGH1vIZPa7dJHeMFoH9MY-k-9rQ5VpA%3D%3D&sa=X&ved=2ahUKEwi75MnOiZaLAxU6iK8BHR-_JJAQmxMoAXoECCQQAw\"}],\"initial_release_date\":\"October 2021\",\"operating_system\":\"Microsoft Windows, Linux, macOS, Web\",\"operating_system_links\":[{\"text\":\"Microsoft Windows\",\"link\":\"https://www.google.com/search?sca_esv=82d425a508629bf6&q=Microsoft+Windows&stick=H4sIAAAAAAAAAONgVuLQz9U3MCmKt1jEKuibmVyUX5yfVqIQnpmXkl9eDABrmtGqIAAAAA&sa=X&ved=2ahUKEwi75MnOiZaLAxU6iK8BHR-_JJAQmxMoAHoECCYQAg\"},{\"text\":\"Linux\",\"link\":\"https://www.google.com/search?sca_esv=82d425a508629bf6&q=Linux&stick=H4sIAAAAAAAAAONgVuLUz9U3SCuoqipYxMrqk5lXWgEATgerNhUAAAA&sa=X&ved=2ahUKEwi75MnOiZaLAxU6iK8BHR-_JJAQmxMoAXoECCYQAw\"},{\"text\":\"macOS\",\"link\":\"https://www.google.com/search?sca_esv=82d425a508629bf6&q=macOS&stick=H4sIAAAAAAAAAONgVuLQz9U3MDWtLFrEypqbmOwfDADb5b_yFAAAAA&sa=X&ved=2ahUKEwi75MnOiZaLAxU6iK8BHR-_JJAQmxMoAnoECCYQBA\"}],\"stable_release\":\"1.7.4421\",\"web_results\":[{\"link\":\"https://en.wikipedia.org/wiki/GitHub_Copilot\"}]}',\n",
      "    metadata: { source: \"SerpAPI\", responseType: \"knowledge_graph\" }\n",
      "  },\n",
      "  Document {\n",
      "    pageContent: '{\"position\":1,\"title\":\"什么是GitHub Copilot？ - GitHub 文档\",\"link\":\"https://docs.github.com/zh/copilot/about-github-copilot/what-is-github-copilot\",\"redirect_link\":\"https://www.google.com/url?sa=t&source=web&rct=j&opi=89978449&url=https://docs.github.com/zh/copilot/about-github-copilot/what-is-github-copilot&ved=2ahUKEwi75MnOiZaLAxU6iK8BHR-_JJAQFnoECBwQAQ\",\"displayed_link\":\"https://docs.github.com › copilot\",\"favicon\":\"https://serpapi.com/searches/67979330fd9d271ccffe50d4/images/82277c65fb25b02675bdb085dc6a1332ae409164795d97236ae0a852bef5c20c.png\",\"snippet\":\"GitHub Copilot 是一款AI 编码助手，可帮助你更快、更省力地编写代码，从而将更多精力集中在问题解决和协作上。 GitHub Copilot 已被证明可以提高开发人员的工作效率并 ...\",\"snippet_highlighted_words\":[\"GitHub Copilot\",\"GitHub Copilot\"],\"source\":\"GitHub Docs\"}',\n",
      "    metadata: { source: \"SerpAPI\", responseType: \"organic_results\" }\n",
      "  },\n",
      "  Document {\n",
      "    pageContent: '{\"position\":2,\"title\":\"什么是GitHub Copilot？ [共6 个]\",\"link\":\"https://learn.microsoft.com/zh-cn/shows/introduction-to-github-copilot/what-is-github-copilot-1-of-6\",\"redirect_link\":\"https://www.google.com/url?sa=t&source=web&rct=j&opi=89978449&url=https://learn.microsoft.com/zh-cn/shows/introduction-to-github-copilot/what-is-github-copilot-1-of-6&ved=2ahUKEwi75MnOiZaLAxU6iK8BHR-_JJAQFnoECD0QAQ\",\"displayed_link\":\"https://learn.microsoft.com › shows\",\"favicon\":\"https://serpapi.com/searches/67979330fd9d271ccffe50d4/images/82277c65fb25b02675bdb085dc6a1332fa12f9da35306d02f6995b4943c6143b.png\",\"date\":\"Mar 9, 2023\",\"snippet\":\"GitHub Copilot 是AI 编码搭档，可在你编码时提供自动完成建议。 通过键入代码或用自然语言描述代码来获取建议。 Copilot 分析文件和相关文件，并在文本 ...\",\"snippet_highlighted_words\":[\"GitHub Copilot\",\"Copilot\"],\"source\":\"Microsoft Learn\"}',\n",
      "    metadata: { source: \"SerpAPI\", responseType: \"organic_results\" }\n",
      "  },\n",
      "  Document {\n",
      "    pageContent: '{\"position\":3,\"title\":\"使用GitHub Copilot Visual Studio - AI 结对编程\",\"link\":\"https://visualstudio.microsoft.com/zh-hans/github-copilot/\",\"redirect_link\":\"https://www.google.com/url?sa=t&source=web&rct=j&opi=89978449&url=https://visualstudio.microsoft.com/zh-hans/github-copilot/&ved=2ahUKEwi75MnOiZaLAxU6iK8BHR-_JJAQFnoECD4QAQ\",\"displayed_link\":\"https://visualstudio.microsoft.com › ...\",\"favicon\":\"https://serpapi.com/searches/67979330fd9d271ccffe50d4/images/82277c65fb25b02675bdb085dc6a13324a2fbe8e5b8ee1c4f560cf0c1dfffb4c.png\",\"date\":\"6 days ago\",\"snippet\":\"GitHub Copilot 是由人工智能(AI) 提供支持的编码助手，可在各种环境中运行，帮助你更高效地完成日常编码任务。 在此新系列内容中，我们将专门介绍GitHub ...\",\"snippet_highlighted_words\":[\"GitHub Copilot\",\"GitHub\"],\"source\":\"Visual Studio\"}',\n",
      "    metadata: { source: \"SerpAPI\", responseType: \"organic_results\" }\n",
      "  },\n",
      "  Document {\n",
      "    pageContent: '{\"position\":4,\"title\":\"关于GitHub Copilot - GitHub 文档\",\"link\":\"https://docs.github.com/zh/copilot/about-github-copilot\",\"redirect_link\":\"https://www.google.com/url?sa=t&source=web&rct=j&opi=89978449&url=https://docs.github.com/zh/copilot/about-github-copilot&ved=2ahUKEwi75MnOiZaLAxU6iK8BHR-_JJAQFnoECDoQAQ\",\"displayed_link\":\"https://docs.github.com › copilot\",\"favicon\":\"https://serpapi.com/searches/67979330fd9d271ccffe50d4/images/82277c65fb25b02675bdb085dc6a1332cc21f1ee375170f02f582aae9dffafbf.png\",\"snippet\":\"GitHub Copilot 包括一套功能。 Copilot 还为管理员提供一套功能。 GitHub Copilot 的订阅计划. 了解 ...\",\"snippet_highlighted_words\":[\"GitHub Copilot\",\"Copilot\",\"GitHub Copilot\"],\"source\":\"GitHub Docs\"}',\n",
      "    metadata: { source: \"SerpAPI\", responseType: \"organic_results\" }\n",
      "  },\n",
      "  Document {\n",
      "    pageContent: '{\"position\":5,\"title\":\"GitHub Copilot 文档\",\"link\":\"https://docs.github.com/zh/copilot\",\"redirect_link\":\"https://www.google.com/url?sa=t&source=web&rct=j&opi=89978449&url=https://docs.github.com/zh/copilot&ved=2ahUKEwi75MnOiZaLAxU6iK8BHR-_JJAQFnoECDwQAQ\",\"displayed_link\":\"https://docs.github.com › copilot\",\"favicon\":\"https://serpapi.com/searches/67979330fd9d271ccffe50d4/images/82277c65fb25b02675bdb085dc6a133225370200e2c5ba777d95bce87ada8de9.png\",\"snippet\":\"可以使用GitHub Copilot 在编写代码时从AI 配对程序员那里获取自动完成风格的建议。 概述快速入门. 从此处开始. 什么是GitHub Copilot？ 了解GitHub Copilot 及其用途。\",\"snippet_highlighted_words\":[\"GitHub Copilot\",\"GitHub Copilot\",\"GitHub Copilot\"],\"sitelinks\":{\"inline\":[{\"title\":\"快速入门\",\"link\":\"https://docs.github.com/zh/copilot/quickstart\"},{\"title\":\"什么是GitHub Copilot？\",\"link\":\"https://docs.github.com/zh/copilot/about-github-copilot/what-is-github-copilot\"},{\"title\":\"关于 GitHub Copilot\",\"link\":\"https://docs.github.com/zh/copilot/about-github-copilot\"},{\"title\":\"GitHub Copilot 的订阅计划\",\"link\":\"https://docs.github.com/zh/copilot/about-github-copilot/subscription-plans-for-github-copilot\"}]},\"source\":\"GitHub Docs\"}',\n",
      "    metadata: { source: \"SerpAPI\", responseType: \"organic_results\" }\n",
      "  },\n",
      "  Document {\n",
      "    pageContent: '{\"position\":6,\"title\":\"GitHub Copilot - 维基百科，自由的百科全书\",\"link\":\"https://zh.wikipedia.org/zh-hans/GitHub_Copilot\",\"redirect_link\":\"https://www.google.com/url?sa=t&source=web&rct=j&opi=89978449&url=https://zh.wikipedia.org/zh-hans/GitHub_Copilot&ved=2ahUKEwi75MnOiZaLAxU6iK8BHR-_JJAQFnoECDgQAQ\",\"displayed_link\":\"https://zh.wikipedia.org › zh-hans\",\"favicon\":\"https://serpapi.com/searches/67979330fd9d271ccffe50d4/images/82277c65fb25b02675bdb085dc6a13326458a3dff24d8ee9553c39d67faefd3c.png\",\"snippet\":\"GitHub Copilot是GitHub和OpenAI合作开发的一个人工智能工具，用户在使用Visual Studio Code、Microsoft Visual Studio、Vim、Cursor或JetBrains集成开发环境时可以 ...\",\"snippet_highlighted_words\":[\"GitHub Copilot\",\"GitHub\"],\"source\":\"维基百科\"}',\n",
      "    metadata: { source: \"SerpAPI\", responseType: \"organic_results\" }\n",
      "  },\n",
      "  Document {\n",
      "    pageContent: `{\"position\":7,\"title\":\"GitHub Copilot 快速入门\",\"link\":\"https://docs.github.com/zh/copilot/quickstart\",\"redirect_link\":\"https://www.google.com/url?sa=t&source=web&rct=j&opi=89978449&url=https://docs.github.com/zh/copilot/quickstart&ved=2ahUKEwi75MnOiZaLAxU6iK8BHR-_JJAQFnoECDkQAQ\",\"displayed_link\":\"https://docs.github.com › quickstart\",\"favicon\":\"https://serpapi.com/searches/67979330fd9d271ccffe50d4/images/82277c65fb25b02675bdb085dc6a1332ecda5cf3a255b9def419184dfa6fa983.png\",\"snippet\":\"You can use Copilot to get answers to coding-related questions, such as how best to code something, how to fix a bug, or how someone else's code works.\",\"snippet_highlighted_words\":[\"Copilot\"],\"source\":\"GitHub Docs\"}`,\n",
      "    metadata: { source: \"SerpAPI\", responseType: \"organic_results\" }\n",
      "  },\n",
      "  Document {\n",
      "    pageContent: '{\"position\":8,\"title\":\"Github Copilot\",\"link\":\"https://genai.byu.edu/github-copilot-information-page\",\"redirect_link\":\"https://www.google.com/url?sa=t&source=web&rct=j&opi=89978449&url=https://genai.byu.edu/github-copilot-information-page&ved=2ahUKEwi75MnOiZaLAxU6iK8BHR-_JJAQFnoECDsQAQ\",\"displayed_link\":\"https://genai.byu.edu › github-copilot-information-page\",\"favicon\":\"https://serpapi.com/searches/67979330fd9d271ccffe50d4/images/82277c65fb25b02675bdb085dc6a1332847eb7db33ed65b50f6ffe7a231bd5b6.png\",\"snippet\":\"Copilot is an AI service that takes a text prompt and generates a response based on training data which was scraped from the web. Copilot also has the ...\",\"snippet_highlighted_words\":[\"Copilot\",\"Copilot\"],\"source\":\"BYU\"}',\n",
      "    metadata: { source: \"SerpAPI\", responseType: \"organic_results\" }\n",
      "  }\n",
      "]\n"
     ]
    }
   ],
   "source": [
    "import { SerpAPILoader } from \"langchain/document_loaders/web/serpapi\";\n",
    "import { load } from \"dotenv\";\n",
    "\n",
    "const env = await load({\n",
    "  envPath:'./.env.local',\n",
    "  export: true\n",
    "});\n",
    "\n",
    "const apiKey = env[\"SERP_KEY\"]\n",
    "const question = \"什么 github copliot\"\n",
    "const loader = new SerpAPILoader({ q: question, apiKey });\n",
    "const docs = await loader.load();\n",
    "\n",
    "console.log(docs)"
   ]
  }
 ],
 "metadata": {
  "kernelspec": {
   "display_name": "Deno",
   "language": "typescript",
   "name": "deno"
  },
  "language_info": {
   "codemirror_mode": "typescript",
   "file_extension": ".ts",
   "mimetype": "text/x.typescript",
   "name": "typescript",
   "nbconvert_exporter": "script",
   "pygments_lexer": "typescript",
   "version": "5.6.2"
  }
 },
 "nbformat": 4,
 "nbformat_minor": 2
}
