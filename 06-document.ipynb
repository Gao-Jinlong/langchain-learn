{
 "cells": [
  {
   "cell_type": "code",
   "execution_count": null,
   "metadata": {},
   "outputs": [],
   "source": [
    "import { Document } from \"langchain/document\"\n",
    "\n",
    "const test = new Document({\n",
    "  pageContent: \"test text\",\n",
    "  metadata: { source: \"ABC Title\" },\n",
    "})\n",
    "\n",
    "console.log(test)\n"
   ]
  },
  {
   "cell_type": "code",
   "execution_count": null,
   "metadata": {},
   "outputs": [],
   "source": [
    "import { TextLoader } from \"langchain/document_loaders/fs/text\"\n",
    "const loader = new TextLoader(\"data/three_body.txt\")\n",
    "\n",
    "const docs = await loader.load()\n",
    "\n",
    "console.log(docs)\n"
   ]
  },
  {
   "cell_type": "code",
   "execution_count": null,
   "metadata": {},
   "outputs": [],
   "source": [
    "import * as pdfParse from \"pdf-parse\"\n",
    "import { PDFLoader } from \"langchain/document_loaders/fs/pdf\"\n",
    "\n",
    "const loader = new PDFLoader(\"data/github-copilot.pdf\", { splitPages: false })\n",
    "const pdfs = await loader.load()\n",
    "\n",
    "console.log(pdfs)\n"
   ]
  },
  {
   "cell_type": "code",
   "execution_count": null,
   "metadata": {},
   "outputs": [],
   "source": [
    "import { DirectoryLoader } from \"langchain/document_loaders/fs/directory\";\n",
    "\n",
    "const loader = new DirectoryLoader(\n",
    "  \"./data\",\n",
    "  {\n",
    "    \".pdf\": (path) => new PDFLoader(path, { splitPages: false }),\n",
    "    \".txt\": (path) => new TextLoader(path),\n",
    "  }\n",
    ");\n",
    "const docs = await loader.load();\n"
   ]
  },
  {
   "cell_type": "markdown",
   "metadata": {},
   "source": [
    "抓取 github 仓库"
   ]
  },
  {
   "cell_type": "code",
   "execution_count": null,
   "metadata": {},
   "outputs": [],
   "source": [
    "import { GithubRepoLoader } from \"langchain/document_loaders/web/github\"\n",
    "import ignore from \"ignore\"\n",
    "\n",
    "const loader = new GithubRepoLoader(\n",
    "  \"https://github.com/RealKai42/qwerty-learner\",\n",
    "  {\n",
    "    branch: \"master\",\n",
    "    recursive: false,\n",
    "    unknown: \"warn\",\n",
    "    ignorePaths: [\"*.md\", \"yarn.lock\", \"*.json\"],\n",
    "    // accessToken: env[\"GITHUB_TOKEN\"],\n",
    "  }\n",
    ")\n",
    "console.log(loader)"
   ]
  },
  {
   "cell_type": "code",
   "execution_count": null,
   "metadata": {},
   "outputs": [],
   "source": [
    "import \"cheerio\"\n",
    "import { CheerioWebBaseLoader } from \"langchain/document_loaders/web/cheerio\"\n",
    "\n",
    "const loader = new CheerioWebBaseLoader(\n",
    "  \"https://kaiyi.cool/blog/github-copilot\",\n",
    "  {\n",
    "    selector: \"h3\",\n",
    "  }\n",
    ")\n",
    "\n",
    "const docs = await loader.load()\n",
    "\n",
    "console.log(docs)\n"
   ]
  },
  {
   "cell_type": "code",
   "execution_count": null,
   "metadata": {},
   "outputs": [],
   "source": [
    "import { SerpAPILoader } from \"langchain/document_loaders/web/serpapi\";\n",
    "import { load } from \"dotenv\";\n",
    "\n",
    "const env = await load({\n",
    "  envPath:'./.env.local',\n",
    "  export: true\n",
    "});\n",
    "\n",
    "const apiKey = env[\"SERP_KEY\"]\n",
    "const question = \"什么 github copliot\"\n",
    "const loader = new SerpAPILoader({ q: question, apiKey });\n",
    "const docs = await loader.load();\n",
    "\n",
    "console.log(docs)"
   ]
  }
 ],
 "metadata": {
  "kernelspec": {
   "display_name": "Deno",
   "language": "typescript",
   "name": "deno"
  },
  "language_info": {
   "codemirror_mode": "typescript",
   "file_extension": ".ts",
   "mimetype": "text/x.typescript",
   "name": "typescript",
   "nbconvert_exporter": "script",
   "pygments_lexer": "typescript",
   "version": "5.6.2"
  }
 },
 "nbformat": 4,
 "nbformat_minor": 2
}
