{
 "cells": [
  {
   "cell_type": "code",
   "execution_count": 1,
   "metadata": {},
   "outputs": [
    {
     "name": "stdout",
     "output_type": "stream",
     "text": [
      "Document {\n",
      "  pageContent: \"test text\",\n",
      "  metadata: { source: \"ABC Title\" },\n",
      "  id: undefined\n",
      "}\n"
     ]
    }
   ],
   "source": [
    "import { Document } from \"langchain/document\";\n",
    "\n",
    "const test = new Document({ pageContent: \"test text\", metadata: { source: \"ABC Title\" } });\n",
    "\n",
    "console.log(test)"
   ]
  },
  {
   "cell_type": "code",
   "execution_count": 2,
   "metadata": {},
   "outputs": [
    {
     "name": "stdout",
     "output_type": "stream",
     "text": [
      "[\n",
      "  Document {\n",
      "    pageContent: \"《三体》是中国科幻作家刘慈欣创作的科幻小说三部曲，由《三体》、《黑暗森林》和《死神永生》组成。这部作品被认为是中国科幻文学的里程碑之作，也是首部获得雨果奖的亚洲科幻小说。\\n\" +\n",
      "      \"\\n\" +\n",
      "      \"主要内容包括：\\n\" +\n",
      "      \"\\n\" +\n",
      "      \"1. **第一部《三体》**\\n\" +\n",
      "      '- 以\"文化大革命\"为背景开篇\\n' +\n",
      "      \"- 介绍了地球文明与三体文明的首次接触\\n\" +\n",
      "      \"- 描述了三体世界的特殊环境和文明特点\\n\" +\n",
      "      '- 揭示了地球上存在的\"地球三体组织\"\\n' +\n",
      "      \"\\n\" +\n",
      "      \"2. **第二部《黑暗森林》**\\n\" +\n",
      "      '- 提出了著名的\"黑暗森林法则\"\\n' +\n",
      "      \"- 描述人类文明面对外星文明威胁时的应对\\n\" +\n",
      "      \"- 展现了宇宙文明间的生存法则\\n\" +\n",
      "      \"\\n\" +\n",
      "      \"3. **第三部《死神永生》**\\n\" +\n",
      "      \"- 展现了更宏大的宇宙图景\\n\" +\n",
      "      \"- 探讨了宇宙维度、文明存续等深刻问题\\n\" +\n",
      "      \"- 对整个宇宙文明的命运做出了独特思考\\n\" +\n",
      "      \"\\n\" +\n",
      "      \"小说的主要特点：\\n\" +\n",
      "      \"- 将硬科幻与人文思考完美结合\\n\" +\n",
      "      \"- 展现了独特的东方哲学思维\\n\" +\n",
      "      \"- 对人性、文明、宇宙等重大命题进行深入探讨\\n\" +\n",
      "      \"- 科学性与艺术性的完美统一\\n\" +\n",
      "      \"\\n\" +\n",
      "      \"《三体》不仅在中国获得巨大成功，在国际上也获得广泛认可，目前已被翻译成多种语言，并正在改编成影视作品。这部作品展现了中国科幻文学的实力，也为世界科幻文学带来了独特的东方视角。\",\n",
      "    metadata: { source: \"data/three_body.txt\" },\n",
      "    id: undefined\n",
      "  }\n",
      "]\n"
     ]
    }
   ],
   "source": [
    "import { TextLoader } from \"langchain/document_loaders/fs/text\";\n",
    "const loader = new TextLoader(\"data/three_body.txt\");\n",
    "\n",
    "const docs = await loader.load();\n",
    "\n",
    "console.log(docs)"
   ]
  },
  {
   "cell_type": "code",
   "execution_count": 3,
   "metadata": {},
   "outputs": [
    {
     "ename": "TypeError",
     "evalue": "[ERR_PACKAGE_PATH_NOT_EXPORTED] Package subpath './document_loaders/fs/pdf' is not defined by \"exports\" in '/Users/gaojinlong/Library/Caches/deno/npm/registry.npmmirror.com/langchain/0.3.13/package.json' imported from 'file:///Users/gaojinlong/ThisMac/coding/langchain-learn/$deno$repl.mts'",
     "output_type": "error",
     "traceback": [
      "Stack trace:",
      "TypeError: [ERR_PACKAGE_PATH_NOT_EXPORTED] Package subpath './document_loaders/fs/pdf' is not defined by \"exports\" in '/Users/gaojinlong/Library/Caches/deno/npm/registry.npmmirror.com/langchain/0.3.13/package.json' imported from 'file:///Users/gaojinlong/ThisMac/coding/langchain-learn/$deno$repl.mts'",
      "    at async <anonymous>:2:23"
     ]
    }
   ],
   "source": [
    "// import * as pdfParse from \"pdf-parse\";\n",
    "import { PDFLoader } from \"langchain/document_loaders/fs/pdf\";\n",
    "\n",
    "console.log(\"pdfs\",PDFLoader)\n",
    "// const loader = new PDFLoader(\"data/github-copliot.pdf\");\n",
    "// const pdfs = await loader.load()"
   ]
  }
 ],
 "metadata": {
  "kernelspec": {
   "display_name": "Deno",
   "language": "typescript",
   "name": "deno"
  },
  "language_info": {
   "codemirror_mode": "typescript",
   "file_extension": ".ts",
   "mimetype": "text/x.typescript",
   "name": "typescript",
   "nbconvert_exporter": "script",
   "pygments_lexer": "typescript",
   "version": "5.6.2"
  }
 },
 "nbformat": 4,
 "nbformat_minor": 2
}
