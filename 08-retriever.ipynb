{
 "cells": [
  {
   "cell_type": "markdown",
   "metadata": {},
   "source": [
    "# 构建 embedding 模型 并存储到 向量数据库"
   ]
  },
  {
   "cell_type": "markdown",
   "metadata": {},
   "source": [
    "导入文本并分块"
   ]
  },
  {
   "cell_type": "code",
   "execution_count": null,
   "metadata": {},
   "outputs": [],
   "source": [
    "import { TextLoader } from \"langchain/document_loaders/fs/text\"\n",
    "import { RecursiveCharacterTextSplitter } from \"langchain/text_splitter\"\n",
    "\n",
    "const loader = new TextLoader(\"data/kong.txt\")\n",
    "const docs = await loader.load()\n",
    "\n",
    "const splitter = new RecursiveCharacterTextSplitter({\n",
    "  chunkSize: 100,\n",
    "  chunkOverlap: 20,\n",
    "})\n",
    "\n",
    "const splitDocs = await splitter.splitDocuments(docs)\n",
    "\n",
    "console.log(splitDocs)"
   ]
  },
  {
   "cell_type": "markdown",
   "metadata": {},
   "source": [
    "导入环境变量"
   ]
  },
  {
   "cell_type": "code",
   "execution_count": null,
   "metadata": {},
   "outputs": [],
   "source": [
    "import { load } from \"dotenv\"\n",
    "const env = await load({\n",
    "  envPath: \".env.local\",\n",
    "})\n",
    "\n",
    "const process = { env }\n",
    "\n",
    "const chatOptions = {\n",
    "  openAIApiKey: process.env.OPENAI_API_KEY,\n",
    "  temperature: 1.5,\n",
    "  model: \"deepseek-chat\",\n",
    "  configuration: {\n",
    "    baseURL: \"https://api.deepseek.com\",\n",
    "  },\n",
    "  azureOpenAIBasePath: \"https://api.deepseek.com\",\n",
    "}\n",
    "\n",
    "console.log(process.env)"
   ]
  },
  {
   "cell_type": "markdown",
   "metadata": {},
   "source": [
    "创建 embedding 模型，并填充向量数据库\n",
    "\n",
    "模型需要使用 openai 的 api key 本地测试使用 MemoryVectorStore 内存数据库即可"
   ]
  },
  {
   "cell_type": "code",
   "execution_count": null,
   "metadata": {},
   "outputs": [],
   "source": [
    "import { OpenAIEmbeddings } from \"@langchain/openai\";\n",
    "const embeddings = new OpenAIEmbeddings()\n",
    "\n",
    "// 测试 embedding 模型\n",
    "const res = await embeddings.embedQuery(splitDocs[0].pageContent)\n",
    "console.log(res)"
   ]
  },
  {
   "cell_type": "code",
   "execution_count": null,
   "metadata": {},
   "outputs": [],
   "source": [
    "import { AlibabaTongyiEmbeddings } from \"@langchain/community/embeddings/alibaba_tongyi\";\n",
    "\n",
    "const embeddings = new AlibabaTongyiEmbeddings({\n",
    "  apiKey: process.env.Tongyi_API_KEY,\n",
    "  modelName: \"text-embedding-v2\",\n",
    "})\n",
    "\n",
    "console.log(embeddings)"
   ]
  },
  {
   "cell_type": "code",
   "execution_count": null,
   "metadata": {},
   "outputs": [],
   "source": [
    "console.log(Object.keys(embeddings.parameters))"
   ]
  },
  {
   "cell_type": "code",
   "execution_count": null,
   "metadata": {},
   "outputs": [],
   "source": [
    "const res = await embeddings.embedQuery(\n",
    "  \"What would be a good company name a company that makes colorful socks?\"\n",
    ")\n",
    "console.log({ res });"
   ]
  },
  {
   "cell_type": "markdown",
   "metadata": {},
   "source": [
    "创建内存向量数据库"
   ]
  },
  {
   "cell_type": "code",
   "execution_count": 5,
   "metadata": {},
   "outputs": [],
   "source": [
    "import { MemoryVectorStore } from \"langchain/vectorstores/memory\"\n",
    "\n",
    "const vectorstore = new MemoryVectorStore(embeddings)\n",
    "await vectorstore.addDocuments(splitDocs)"
   ]
  },
  {
   "cell_type": "markdown",
   "metadata": {},
   "source": [
    "创建召回检索（retriever）"
   ]
  },
  {
   "cell_type": "code",
   "execution_count": 6,
   "metadata": {},
   "outputs": [],
   "source": [
    "const retriever = vectorstore.asRetriever(2)"
   ]
  },
  {
   "cell_type": "markdown",
   "metadata": {},
   "source": [
    "测试召回检索"
   ]
  },
  {
   "cell_type": "code",
   "execution_count": null,
   "metadata": {},
   "outputs": [],
   "source": [
    "const res = await retriever.invoke(\"茴香豆是做什么用的？\")\n",
    "console.log(res)"
   ]
  },
  {
   "cell_type": "markdown",
   "metadata": {},
   "source": []
  }
 ],
 "metadata": {
  "kernelspec": {
   "display_name": "Deno",
   "language": "typescript",
   "name": "deno"
  },
  "language_info": {
   "codemirror_mode": "typescript",
   "file_extension": ".ts",
   "mimetype": "text/x.typescript",
   "name": "typescript",
   "nbconvert_exporter": "script",
   "pygments_lexer": "typescript",
   "version": "5.6.2"
  }
 },
 "nbformat": 4,
 "nbformat_minor": 2
}
