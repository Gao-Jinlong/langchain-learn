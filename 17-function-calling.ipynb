{
 "cells": [
  {
   "cell_type": "code",
   "execution_count": 1,
   "metadata": {},
   "outputs": [],
   "source": [
    "import { load } from \"dotenv\"\n",
    "const env = await load({\n",
    "  envPath: \".env.local\",\n",
    "})\n",
    "\n",
    "const process = { env }\n",
    "\n",
    "const chatOptions = {\n",
    "  apiKey: process.env.Tongyi_API_KEY,\n",
    "  baseURL: process.env.BASE_URL\n",
    "}"
   ]
  },
  {
   "cell_type": "code",
   "execution_count": 2,
   "metadata": {},
   "outputs": [],
   "source": [
    "import OpenAI from \"openai\"\n",
    "\n",
    "const openai = new OpenAI(chatOptions)\n",
    "\n",
    "function getCurrentWeather({ location, unit=\"fahrenheit\"}){\n",
    "  const  weather_info = {\n",
    "       \"location\": location,\n",
    "       \"temperature\": \"72\",\n",
    "       \"unit\": unit,\n",
    "       \"forecast\": [\"sunny\", \"windy\"],\n",
    "   }\n",
    "   return JSON.stringify(weather_info);\n",
    "}\n",
    "\n",
    "const tools = [\n",
    "  {\n",
    "    type: \"function\",\n",
    "    function: {\n",
    "      name: \"getCurrentWeather\",\n",
    "      description: \"Get the current weather in a given location\",\n",
    "      parameters: {\n",
    "        type: \"object\",\n",
    "        properties: {\n",
    "          location: {\n",
    "            type: \"string\",\n",
    "            description: \"The city and state, e.g. San Francisco, CA\",\n",
    "          },\n",
    "          unit: { type: \"string\", enum: [\"celsius\", \"fahrenheit\"] },\n",
    "        },\n",
    "        required: [\"location\"],\n",
    "      },\n",
    "    },\n",
    "  }\n",
    "]"
   ]
  },
  {
   "cell_type": "code",
   "execution_count": 4,
   "metadata": {},
   "outputs": [
    {
     "name": "stdout",
     "output_type": "stream",
     "text": [
      "{\n",
      "  message: {\n",
      "    content: \"\",\n",
      "    role: \"assistant\",\n",
      "    tool_calls: [\n",
      "      {\n",
      "        function: { name: \"getCurrentWeather\", arguments: '{\"location\": \"北京\"}' },\n",
      "        index: 0,\n",
      "        id: \"call_79d8f44cb5974e738c6a0c\",\n",
      "        type: \"function\"\n",
      "      }\n",
      "    ]\n",
      "  },\n",
      "  finish_reason: \"tool_calls\",\n",
      "  index: 0,\n",
      "  logprobs: null\n",
      "}\n"
     ]
    }
   ],
   "source": [
    "const messages = [\n",
    "  {\n",
    "    role: \"user\",\n",
    "    content: \"北京的天气怎么样\",\n",
    "  },\n",
    "]\n",
    "\n",
    "const result = await openai.chat.completions.create({\n",
    "  messages,\n",
    "  model: \"qwen-plus\",\n",
    "  tools,\n",
    "})\n",
    "console.log(result.choices[0])\n"
   ]
  }
 ],
 "metadata": {
  "kernelspec": {
   "display_name": "Deno",
   "language": "typescript",
   "name": "deno"
  },
  "language_info": {
   "codemirror_mode": "typescript",
   "file_extension": ".ts",
   "mimetype": "text/x.typescript",
   "name": "typescript",
   "nbconvert_exporter": "script",
   "pygments_lexer": "typescript",
   "version": "5.6.2"
  }
 },
 "nbformat": 4,
 "nbformat_minor": 2
}
