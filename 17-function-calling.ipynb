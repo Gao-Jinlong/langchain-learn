{
 "cells": [
  {
   "cell_type": "code",
   "execution_count": 2,
   "metadata": {},
   "outputs": [],
   "source": [
    "import { load } from \"dotenv\"\n",
    "const env = await load({\n",
    "  envPath: \".env.local\",\n",
    "})\n",
    "\n",
    "const process = { env }\n",
    "\n",
    "const chatOptions = {\n",
    "  apiKey: process.env.Tongyi_API_KEY,\n",
    "  baseURL: process.env.BASE_URL\n",
    "}"
   ]
  },
  {
   "cell_type": "code",
   "execution_count": 3,
   "metadata": {},
   "outputs": [],
   "source": [
    "import OpenAI from \"openai\"\n",
    "\n",
    "const openai = new OpenAI(chatOptions)\n",
    "\n",
    "function getCurrentWeather({ location, unit=\"fahrenheit\"}){\n",
    "  const  weather_info = {\n",
    "       \"location\": location,\n",
    "       \"temperature\": \"72\",\n",
    "       \"unit\": unit,\n",
    "       \"forecast\": [\"sunny\", \"windy\"],\n",
    "   }\n",
    "   return JSON.stringify(weather_info);\n",
    "}\n",
    "\n",
    "const tools = [\n",
    "  {\n",
    "    type: \"function\",\n",
    "    function: {\n",
    "      name: \"getCurrentWeather\",\n",
    "      description: \"Get the current weather in a given location\",\n",
    "      parameters: {\n",
    "        type: \"object\",\n",
    "        properties: {\n",
    "          location: {\n",
    "            type: \"string\",\n",
    "            description: \"The city and state, e.g. San Francisco, CA\",\n",
    "          },\n",
    "          unit: { type: \"string\", enum: [\"celsius\", \"fahrenheit\"] },\n",
    "        },\n",
    "        required: [\"location\"],\n",
    "      },\n",
    "    },\n",
    "  }\n",
    "]"
   ]
  },
  {
   "cell_type": "code",
   "execution_count": 4,
   "metadata": {},
   "outputs": [
    {
     "name": "stdout",
     "output_type": "stream",
     "text": [
      "{\n",
      "  message: {\n",
      "    content: \"\",\n",
      "    role: \"assistant\",\n",
      "    tool_calls: [\n",
      "      {\n",
      "        function: { name: \"getCurrentWeather\", arguments: '{\"location\": \"北京\"}' },\n",
      "        index: 0,\n",
      "        id: \"call_4b7ad6a353ff4edabf7351\",\n",
      "        type: \"function\"\n",
      "      }\n",
      "    ]\n",
      "  },\n",
      "  finish_reason: \"tool_calls\",\n",
      "  index: 0,\n",
      "  logprobs: null\n",
      "}\n"
     ]
    }
   ],
   "source": [
    "const messages = [\n",
    "  {\n",
    "    role: \"user\",\n",
    "    content: \"北京的天气怎么样\",\n",
    "  },\n",
    "]\n",
    "\n",
    "const result = await openai.chat.completions.create({\n",
    "  messages,\n",
    "  model: \"qwen-plus\",\n",
    "  tools,\n",
    "})\n",
    "console.log(result.choices[0])\n"
   ]
  },
  {
   "cell_type": "markdown",
   "metadata": {},
   "source": [
    "禁用函数调用"
   ]
  },
  {
   "cell_type": "code",
   "execution_count": 5,
   "metadata": {},
   "outputs": [
    {
     "name": "stdout",
     "output_type": "stream",
     "text": [
      "{\n",
      "  message: {\n",
      "    content: \"我无法提供实时信息。您可以通过手机上的天气应用程序或搜索引擎查询北京的最新天气情况。\",\n",
      "    role: \"assistant\"\n",
      "  },\n",
      "  finish_reason: \"stop\",\n",
      "  index: 0,\n",
      "  logprobs: null\n",
      "}\n"
     ]
    }
   ],
   "source": [
    "const messages = [\n",
    "  {\n",
    "    role: \"user\",\n",
    "    content: \"北京的天气怎么样\",\n",
    "  },\n",
    "]\n",
    "\n",
    "const result = await openai.chat.completions.create({\n",
    "  messages,\n",
    "  model: \"qwen-plus\",\n",
    "  tools,\n",
    "  tool_choice: \"none\"\n",
    "})\n",
    "console.log(result.choices[0])"
   ]
  },
  {
   "cell_type": "markdown",
   "metadata": {},
   "source": [
    "强制函数调用"
   ]
  },
  {
   "cell_type": "code",
   "execution_count": null,
   "metadata": {},
   "outputs": [
    {
     "name": "stdout",
     "output_type": "stream",
     "text": [
      "{\n",
      "  message: {\n",
      "    content: \"\",\n",
      "    role: \"assistant\",\n",
      "    tool_calls: [\n",
      "      {\n",
      "        function: { name: \"getCurrentWeather\", arguments: '{\"location\": \"北京\"}' },\n",
      "        index: 0,\n",
      "        id: \"call_f7efa4befd1b450f88aaa7\",\n",
      "        type: \"function\"\n",
      "      }\n",
      "    ]\n",
      "  },\n",
      "  finish_reason: \"tool_calls\",\n",
      "  index: 0,\n",
      "  logprobs: null\n",
      "}\n"
     ]
    }
   ],
   "source": [
    "const messages = [\n",
    "  {\n",
    "    role: \"user\",\n",
    "    content: \"你好\",\n",
    "  },\n",
    "]\n",
    "\n",
    "const result = await openai.chat.completions.create({\n",
    "  messages,\n",
    "  model: \"qwen-plus\",\n",
    "  tools,\n",
    "  tool_choice: {\n",
    "    type: \"function\",\n",
    "    function: {\n",
    "      name: \"getCurrentWeather\",\n",
    "    },\n",
    "  },\n",
    "})\n",
    "console.log(result.choices[0])\n"
   ]
  },
  {
   "cell_type": "code",
   "execution_count": 5,
   "metadata": {},
   "outputs": [
    {
     "name": "stdout",
     "output_type": "stream",
     "text": [
      "{\"temperature\":\"72\",\"unit\":\"fahrenheit\",\"forecast\":[\"sunny\",\"windy\"]}\n"
     ]
    }
   ],
   "source": [
    "const functions = {\n",
    "  getCurrentWeather: getCurrentWeather,\n",
    "}\n",
    "\n",
    "const functionInfo = result.choices[0].message.tool_calls[0].function\n",
    "const functionName = functionInfo.name\n",
    "const functionParams = functionInfo.arguments\n",
    "\n",
    "const functionResult = functions[functionName](functionParams)\n",
    "\n",
    "console.log(functionResult)"
   ]
  },
  {
   "cell_type": "markdown",
   "metadata": {},
   "source": [
    "并发调用函数"
   ]
  },
  {
   "cell_type": "code",
   "execution_count": 6,
   "metadata": {},
   "outputs": [],
   "source": [
    "function getCurrentTime({format = \"ios\"}={}){\n",
    "  let currentTime;\n",
    "  switch(format){\n",
    "    case \"ios\":\n",
    "      currentTime = new Date().toISOString()\n",
    "      break;\n",
    "    case \"locale\":\n",
    "      currentTime = new Date().toLocaleString()\n",
    "      break;\n",
    "    default:\n",
    "      currentTime = new Date().toString()\n",
    "      break;\n",
    "  }\n",
    "  return currentTime;\n",
    "}"
   ]
  },
  {
   "cell_type": "code",
   "execution_count": 7,
   "metadata": {},
   "outputs": [],
   "source": [
    "const tools = [\n",
    "  {\n",
    "    type: \"function\",\n",
    "    function: {\n",
    "      name: \"getCurrentTime\",\n",
    "      description: \"Get the current time in a given format\",\n",
    "      parameters: {\n",
    "        type: \"object\",\n",
    "        properties: {\n",
    "          format: {\n",
    "            type: \"string\",\n",
    "            enum: [\"iso\", \"locale\", \"string\"],\n",
    "            description: \"The format of the time, e.g. iso, locale, string\",\n",
    "          },\n",
    "        },\n",
    "        required: [\"format\"],\n",
    "      },\n",
    "    },\n",
    "  },\n",
    "  {\n",
    "    type: \"function\",\n",
    "    function: {\n",
    "      name: \"getCurrentWeather\",\n",
    "      description: \"Get the current weather in a given location\",\n",
    "      parameters: {\n",
    "        type: \"object\",\n",
    "        properties: {\n",
    "          location: {\n",
    "            type: \"string\",\n",
    "            description: \"The city and state, e.g. San Francisco, CA\",\n",
    "          },\n",
    "          unit: { type: \"string\", enum: [\"celsius\", \"fahrenheit\"] },\n",
    "        },\n",
    "        required: [\"location\", \"unit\"],\n",
    "      },\n",
    "    },\n",
    "  },\n",
    "]\n"
   ]
  },
  {
   "cell_type": "code",
   "execution_count": 12,
   "metadata": {},
   "outputs": [
    {
     "name": "stdout",
     "output_type": "stream",
     "text": [
      "{\n",
      "  message: {\n",
      "    content: \"\",\n",
      "    role: \"assistant\",\n",
      "    tool_calls: [\n",
      "      {\n",
      "        function: { name: \"getCurrentTime\", arguments: '{\"format\": \"iso\"}' },\n",
      "        index: 0,\n",
      "        id: \"call_ea7164f785924bed9c1da7\",\n",
      "        type: \"function\"\n",
      "      }\n",
      "    ]\n",
      "  },\n",
      "  finish_reason: \"tool_calls\",\n",
      "  index: 0,\n",
      "  logprobs: null\n",
      "}\n"
     ]
    }
   ],
   "source": [
    "const messages = [\n",
    "  {\n",
    "      \"role\": \"user\",\n",
    "      \"content\": \"请帮我查询当前的时间, 然后帮我查询北京的天气\"\n",
    "  }\n",
    "]\n",
    "\n",
    "const result = await openai.chat.completions.create({\n",
    "  messages,\n",
    "  model: \"qwen-plus\",\n",
    "  tools,\n",
    "})\n",
    "\n",
    "console.log(result.choices[0])"
   ]
  },
  {
   "cell_type": "markdown",
   "metadata": {},
   "source": [
    "理想输出\n",
    "\n",
    "```json\n",
    "message: {\n",
    "    role: \"assistant\",\n",
    "    content: null,\n",
    "    tool_calls: [\n",
    "      {\n",
    "        id: \"xxxx\",\n",
    "        type: \"function\",\n",
    "        function: {\n",
    "          name: \"getCurrentWeather\",\n",
    "          arguments: '{\\n  \"location\": \"Beijing\",\\n  \"unit\": \"celsius\"\\n}'\n",
    "        }\n",
    "      },\n",
    "      {\n",
    "        id: \"xxx\",\n",
    "        type: \"function\",\n",
    "        function: {\n",
    "          name: \"getCurrentTime\",\n",
    "          arguments: '{\\n  \"format\": \"locale\"\\n}'\n",
    "        }\n",
    "      }\n",
    "    ]\n",
    "  },\n",
    "```\n",
    "\n",
    "特性不稳定，跑不出来 :->\n"
   ]
  }
 ],
 "metadata": {
  "kernelspec": {
   "display_name": "Deno",
   "language": "typescript",
   "name": "deno"
  },
  "language_info": {
   "codemirror_mode": "typescript",
   "file_extension": ".ts",
   "mimetype": "text/x.typescript",
   "name": "typescript",
   "nbconvert_exporter": "script",
   "pygments_lexer": "typescript",
   "version": "5.6.2"
  }
 },
 "nbformat": 4,
 "nbformat_minor": 2
}
