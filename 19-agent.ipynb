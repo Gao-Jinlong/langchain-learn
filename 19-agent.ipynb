{
 "cells": [
  {
   "cell_type": "code",
   "execution_count": 1,
   "metadata": {},
   "outputs": [],
   "source": [
    "import { z } from \"zod\"\n",
    "import zodToJsonSchema from \"zod-to-json-schema\"\n",
    "import { ChatOpenAI } from \"@langchain/openai\"\n",
    "import { ChatPromptTemplate, PromptTemplate } from \"@langchain/core/prompts\"\n",
    "import { RunnableSequence, RunnableBranch } from \"@langchain/core/runnables\"\n",
    "import { JsonOutputToolsParser } from \"@langchain/core/output_parsers/openai_tools\"\n",
    "import { StringOutputParser } from \"@langchain/core/output_parsers\"\n"
   ]
  },
  {
   "cell_type": "code",
   "execution_count": 2,
   "metadata": {},
   "outputs": [],
   "source": [
    "import { load } from \"dotenv\"\n",
    "const env = await load({\n",
    "  envPath: \".env.local\",\n",
    "})\n",
    "\n",
    "const process = { env }\n",
    "\n",
    "const chatOptions = {\n",
    "  openAIApiKey: process.env.Tongyi_API_KEY,\n",
    "  temperature: 0,\n",
    "  modelName: \"qwen-plus\",\n",
    "  configuration: {\n",
    "    baseURL: process.env.BASE_URL,\n",
    "  },\n",
    "}\n"
   ]
  },
  {
   "cell_type": "markdown",
   "metadata": {},
   "source": [
    "模仿人类的合作方式，构建多个 llm chain 来相互合作，最终得到一个在多个领域表现都不错的模型。\n"
   ]
  },
  {
   "cell_type": "markdown",
   "metadata": {},
   "source": [
    "首先创建一个入口 llm 来对用户的问题进行分类，然后根据问题的分类，路由到不同的专业 llm chain 来回答问题。\n"
   ]
  },
  {
   "cell_type": "code",
   "execution_count": 3,
   "metadata": {},
   "outputs": [],
   "source": [
    "const classifySchema = z.object({\n",
    "  type: z.enum([\"科普\", \"编程\", \"一般问题\"]).describe(\"用户提问的分类\"),\n",
    "})\n",
    "\n",
    "const model = new ChatOpenAI({\n",
    "  ...chatOptions,\n",
    "  temperature: 0,\n",
    "})\n",
    "\n",
    "const modelWithTools = model.bind({\n",
    "  tools: [\n",
    "    {\n",
    "      type: \"function\",\n",
    "      function: {\n",
    "        name: \"classifyQuestion\",\n",
    "        description: \"对用户的提问进行分类\",\n",
    "        parameters: zodToJsonSchema(classifySchema),\n",
    "      },\n",
    "    },\n",
    "  ],\n",
    "  tool_choice: {\n",
    "    type: \"function\",\n",
    "    function: {\n",
    "      name: \"classifyQuestion\",\n",
    "    },\n",
    "  },\n",
    "})\n",
    "\n",
    "const prompt = ChatPromptTemplate.fromMessages([\n",
    "  [\n",
    "    \"system\",\n",
    "    `仔细思考，你有充足的时间进行严谨的思考，然后对用户的问题进行分类，\n",
    "    当你无法分类到特定分类时，可以分类到 \"一般问题\"`,\n",
    "  ],\n",
    "  [\"human\", \"{input}\"],\n",
    "])\n",
    "\n",
    "const classifyChain = RunnableSequence.from([\n",
    "  prompt,\n",
    "  modelWithTools,\n",
    "  new JsonOutputToolsParser(),\n",
    "  (input) => {\n",
    "    const type = input[0]?.args?.type\n",
    "    return type ? type : \"一般问题\"\n",
    "  },\n",
    "])\n"
   ]
  },
  {
   "cell_type": "code",
   "execution_count": 4,
   "metadata": {},
   "outputs": [
    {
     "name": "stdout",
     "output_type": "stream",
     "text": [
      "科普\n"
     ]
    }
   ],
   "source": [
    "const res = await classifyChain.invoke({\n",
    "  input: \"鲸鱼是哺乳动物么？\",\n",
    "})\n",
    "\n",
    "console.log(res)\n"
   ]
  },
  {
   "cell_type": "markdown",
   "metadata": {},
   "source": [
    "根据不同的问题构建不同的专家 chain，这些专家可以访问不同的数据库来避免数据的污染\n"
   ]
  },
  {
   "cell_type": "code",
   "execution_count": 5,
   "metadata": {},
   "outputs": [],
   "source": [
    "const answeringModel = new ChatOpenAI({\n",
    "  ...chatOptions,\n",
    "  templature: 0.7,\n",
    "})\n",
    "\n",
    "const sciencePrompt = PromptTemplate.fromTemplate(\n",
    "  `作为一位科普专家，你需要解答以下问题，尽可能提供详细、准确和易于理解的答案：\n",
    "\n",
    "  问题：{input}\n",
    "  答案：`\n",
    ")\n",
    "\n",
    "const programmingPrompt = PromptTemplate.fromTemplate(\n",
    "  `作为一位编程专家，你需要解答以下编程相关的问题，尽可能提供详细、准确和实用的答案：\n",
    "\n",
    "问题：{input}\n",
    "答案：`\n",
    ")\n",
    "\n",
    "const generalPrompt = PromptTemplate.fromTemplate(\n",
    "  `请回答以下一般性问题，尽可能提供全面和有深度的答案：\n",
    "\n",
    "问题：{input}\n",
    "答案：`\n",
    ")\n",
    "\n",
    "const scienceChain = RunnableSequence.from([\n",
    "  sciencePrompt,\n",
    "  answeringModel,\n",
    "  new StringOutputParser(),\n",
    "  {\n",
    "    output: (input) => input,\n",
    "    role: () => \"科普专家\",\n",
    "  },\n",
    "])\n",
    "\n",
    "const programmingChain = RunnableSequence.from([\n",
    "  programmingPrompt,\n",
    "  answeringModel,\n",
    "  new StringOutputParser(),\n",
    "  {\n",
    "    output: (input) => input,\n",
    "    role: () => \"编程大师\",\n",
    "  },\n",
    "])\n",
    "\n",
    "const generalChain = RunnableSequence.from([\n",
    "  generalPrompt,\n",
    "  answeringModel,\n",
    "  new StringOutputParser(),\n",
    "  {\n",
    "    output: (input) => input,\n",
    "    role: () => \"通识专家\",\n",
    "  },\n",
    "])\n"
   ]
  },
  {
   "cell_type": "markdown",
   "metadata": {},
   "source": [
    "路由\n"
   ]
  },
  {
   "cell_type": "code",
   "execution_count": 6,
   "metadata": {},
   "outputs": [],
   "source": [
    "const branch = RunnableBranch.from([\n",
    "  [(input) => input.type.includes(\"科普\"), scienceChain],\n",
    "  [(input) => input.type.includes(\"编程\"), programmingChain],\n",
    "  generalChain,\n",
    "])\n"
   ]
  },
  {
   "cell_type": "code",
   "execution_count": 7,
   "metadata": {},
   "outputs": [],
   "source": [
    "const outputTemplate = PromptTemplate.fromTemplate(\n",
    "  `感谢您的提问，这是来自 {role} 的专业回答：\n",
    "  \n",
    "  {output}\n",
    "  `\n",
    ")\n",
    "\n",
    "const finalChain = RunnableSequence.from([\n",
    "  {\n",
    "    type: classifyChain,\n",
    "    input: (input) => input.input,\n",
    "  },\n",
    "  branch,\n",
    "  (input) => outputTemplate.format(input),\n",
    "])\n"
   ]
  },
  {
   "cell_type": "code",
   "execution_count": 8,
   "metadata": {},
   "outputs": [
    {
     "name": "stdout",
     "output_type": "stream",
     "text": [
      "感谢您的提问，这是来自 科普专家 的专业回答：\n",
      "  \n",
      "  **答案：是的，鲸鱼是哺乳动物。**\n",
      "\n",
      "虽然鲸鱼生活在水中，看起来像鱼类，但实际上它们是哺乳动物。这是基于它们具有哺乳动物的关键特征。以下是详细的解释：\n",
      "\n",
      "### 1. **呼吸空气**\n",
      "   鲸鱼是用肺呼吸的，而不是像鱼类那样用鳃呼吸。鲸鱼必须定期浮到水面上通过头顶的“气孔”（即呼吸孔）呼吸空气。它们在水下屏住呼吸，然后浮出水面换气。\n",
      "\n",
      "### 2. **胎生和哺乳**\n",
      "   鲸鱼是胎生动物，母鲸会在体内孕育幼崽，而不是像鱼类那样产卵。幼鲸出生后，母鲸会通过乳头分泌乳汁喂养幼崽，这也是“哺乳动物”这个名字的由来。\n",
      "\n",
      "### 3. **体温恒定**\n",
      "   鲸鱼是恒温动物，意味着它们的体温不会随外界环境变化而波动。相比之下，鱼类是变温动物，体温会随着水温的变化而变化。\n",
      "\n",
      "### 4. **毛发和汗腺**\n",
      "   虽然鲸鱼的毛发非常少，几乎看不见，但它们仍然有少量的毛发，尤其是在幼鲸的头部。此外，鲸鱼体内有汗腺，尽管它们不像陆地哺乳动物那样通过汗腺散热，而是通过血液流动调节体温。\n",
      "\n",
      "### 5. **骨骼结构**\n",
      "   鲸鱼的骨骼结构与其他哺乳动物相似。例如，它们的前肢进化成了鳍状肢，但内部骨骼结构与陆地哺乳动物的前肢相似。鲸鱼的祖先实际上是生活在陆地上的哺乳动物，后来逐渐演化为水生动物。\n",
      "\n",
      "### 总结：\n",
      "尽管鲸鱼生活在水中，但它们具备所有哺乳动物的基本特征：用肺呼吸、胎生哺乳、体温恒定、有毛发和汗腺等。因此，鲸鱼属于哺乳动物类群，而不是鱼类。\n",
      "\n",
      "希望这个解释能帮助你更好地理解为什么鲸鱼是哺乳动物！\n",
      "  \n"
     ]
    }
   ],
   "source": [
    "const res = await finalChain.invoke({\n",
    "  \"input\": \"鲸鱼是哺乳动物么？\"\n",
    "})\n",
    "\n",
    "console.log(res)"
   ]
  }
 ],
 "metadata": {
  "kernelspec": {
   "display_name": "Deno",
   "language": "typescript",
   "name": "deno"
  },
  "language_info": {
   "codemirror_mode": "typescript",
   "file_extension": ".ts",
   "mimetype": "text/x.typescript",
   "name": "typescript",
   "nbconvert_exporter": "script",
   "pygments_lexer": "typescript",
   "version": "5.6.2"
  }
 },
 "nbformat": 4,
 "nbformat_minor": 2
}
