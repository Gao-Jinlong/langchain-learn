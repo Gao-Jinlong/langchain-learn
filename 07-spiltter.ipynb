{
 "cells": [
  {
   "cell_type": "code",
   "execution_count": 2,
   "metadata": {},
   "outputs": [],
   "source": [
    "import { RecursiveCharacterTextSplitter } from \"langchain/text_splitter\"\n",
    "import { TextLoader } from \"langchain/document_loaders/fs/text\"\n",
    "\n",
    "const loader = new TextLoader(\"data/kong.txt\")\n",
    "const docs = await loader.load()\n",
    "\n",
    "const splitter = new RecursiveCharacterTextSplitter({\n",
    "  chunkSize: 64,\n",
    "  chunkOverlap: 0,\n",
    "})\n",
    "\n",
    "const splitDocs = await splitter.splitDocuments(docs)\n"
   ]
  },
  {
   "cell_type": "code",
   "execution_count": null,
   "metadata": {},
   "outputs": [],
   "source": [
    "console.log(splitDocs)\n"
   ]
  },
  {
   "cell_type": "markdown",
   "metadata": {},
   "source": [
    "尝试修改 Overlap 查看区别\n"
   ]
  },
  {
   "cell_type": "code",
   "execution_count": 4,
   "metadata": {},
   "outputs": [],
   "source": [
    "const splitter = new RecursiveCharacterTextSplitter({\n",
    "  chunkSize: 64,\n",
    "  chunkOverlap: 16,\n",
    "})\n",
    "\n",
    "const splitDocs = await splitter.splitDocuments(docs)\n"
   ]
  },
  {
   "cell_type": "code",
   "execution_count": null,
   "metadata": {},
   "outputs": [],
   "source": [
    "console.log(splitDocs)\n"
   ]
  },
  {
   "cell_type": "markdown",
   "metadata": {},
   "source": [
    "## 代码分块\n",
    "\n",
    "支持的语言列表\n"
   ]
  },
  {
   "cell_type": "code",
   "execution_count": null,
   "metadata": {},
   "outputs": [],
   "source": [
    "import { SupportedTextSplitterLanguages } from \"langchain/text_splitter\"\n",
    "\n",
    "console.log(SupportedTextSplitterLanguages)"
   ]
  },
  {
   "cell_type": "code",
   "execution_count": 8,
   "metadata": {},
   "outputs": [],
   "source": [
    "import { RecursiveCharacterTextSplitter } from \"langchain/text_splitter\"\n",
    "\n",
    "const js = `\n",
    "function myFunction(name,job){\n",
    "\tconsole.log(\"Welcome \" + name + \", the \" + job);\n",
    "}\n",
    "\n",
    "myFunction('Harry Potter','Wizard')\n",
    "\n",
    "function forFunction(){\n",
    "\tfor (let i=0; i<5; i++){\n",
    "        console.log(\"这个数字是\" + i)\n",
    "\t}\n",
    "}\n",
    "\n",
    "forFunction()\n",
    "`\n",
    "\n",
    "const splitter = RecursiveCharacterTextSplitter.fromLanguage(\"js\", {\n",
    "  chunkSize: 64,\n",
    "  chunkOverlap: 0,\n",
    "})\n",
    "const jsOutput = await splitter.createDocuments([js])\n"
   ]
  },
  {
   "cell_type": "code",
   "execution_count": null,
   "metadata": {},
   "outputs": [],
   "source": [
    "console.log(jsOutput)"
   ]
  },
  {
   "cell_type": "code",
   "execution_count": null,
   "metadata": {},
   "outputs": [],
   "source": [
    "import { TokenTextSplitter } from \"langchain/text_splitter\";\n",
    "\n",
    "const text = \"I stand before you today the representative of a family in grief, in a country in mourning before a world in shock.\";\n",
    "\n",
    "const splitter = new TokenTextSplitter({\n",
    "  chunkSize: 10,\n",
    "  chunkOverlap: 0,\n",
    "});\n",
    "\n",
    "const docs = await splitter.createDocuments([text]);"
   ]
  },
  {
   "cell_type": "code",
   "execution_count": null,
   "metadata": {},
   "outputs": [],
   "source": [
    "console.log(docs)"
   ]
  }
 ],
 "metadata": {
  "kernelspec": {
   "display_name": "Deno",
   "language": "typescript",
   "name": "deno"
  },
  "language_info": {
   "codemirror_mode": "typescript",
   "file_extension": ".ts",
   "mimetype": "text/x.typescript",
   "name": "typescript",
   "nbconvert_exporter": "script",
   "pygments_lexer": "typescript",
   "version": "5.6.2"
  }
 },
 "nbformat": 4,
 "nbformat_minor": 2
}
